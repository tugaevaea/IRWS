{
 "cells": [
  {
   "cell_type": "code",
   "execution_count": 44,
   "metadata": {},
   "outputs": [],
   "source": [
    "import pandas as pd\n",
    "import math\n",
    "import numpy as np \n",
    "import string\n",
    "import time\n",
    "\n",
    "from IPython import get_ipython\n",
    "\n",
    "get_ipython().magic('run -i \"functions_helper.py\"')"
   ]
  },
  {
   "cell_type": "markdown",
   "metadata": {},
   "source": [
    "## Data Preprocessing"
   ]
  },
  {
   "cell_type": "code",
   "execution_count": 45,
   "metadata": {},
   "outputs": [
    {
     "data": {
      "text/html": [
       "<div>\n",
       "<style scoped>\n",
       "    .dataframe tbody tr th:only-of-type {\n",
       "        vertical-align: middle;\n",
       "    }\n",
       "\n",
       "    .dataframe tbody tr th {\n",
       "        vertical-align: top;\n",
       "    }\n",
       "\n",
       "    .dataframe thead th {\n",
       "        text-align: right;\n",
       "    }\n",
       "</style>\n",
       "<table border=\"1\" class=\"dataframe\">\n",
       "  <thead>\n",
       "    <tr style=\"text-align: right;\">\n",
       "      <th></th>\n",
       "      <th>ID</th>\n",
       "      <th>TEXT</th>\n",
       "    </tr>\n",
       "  </thead>\n",
       "  <tbody>\n",
       "    <tr>\n",
       "      <th>0</th>\n",
       "      <td>MED-118</td>\n",
       "      <td>alkylphenol human milk relat dietari habit cen...</td>\n",
       "    </tr>\n",
       "    <tr>\n",
       "      <th>1</th>\n",
       "      <td>MED-329</td>\n",
       "      <td>phosphat vascular toxin pubm ncbi abstract ele...</td>\n",
       "    </tr>\n",
       "    <tr>\n",
       "      <th>2</th>\n",
       "      <td>MED-330</td>\n",
       "      <td>dietari phosphoru acut impair endotheli functi...</td>\n",
       "    </tr>\n",
       "    <tr>\n",
       "      <th>3</th>\n",
       "      <td>MED-332</td>\n",
       "      <td>public health impact dietari phosphoru excess ...</td>\n",
       "    </tr>\n",
       "    <tr>\n",
       "      <th>4</th>\n",
       "      <td>MED-334</td>\n",
       "      <td>differ total vitro digest phosphoru content pl...</td>\n",
       "    </tr>\n",
       "  </tbody>\n",
       "</table>\n",
       "</div>"
      ],
      "text/plain": [
       "        ID                                               TEXT\n",
       "0  MED-118  alkylphenol human milk relat dietari habit cen...\n",
       "1  MED-329  phosphat vascular toxin pubm ncbi abstract ele...\n",
       "2  MED-330  dietari phosphoru acut impair endotheli functi...\n",
       "3  MED-332  public health impact dietari phosphoru excess ...\n",
       "4  MED-334  differ total vitro digest phosphoru content pl..."
      ]
     },
     "execution_count": 45,
     "metadata": {},
     "output_type": "execute_result"
    }
   ],
   "source": [
    "# load corpus as preprocessed set of documents\n",
    "corpus = pd.read_csv('nfcorpus/dev.docs', sep='\\t', names=['ID', 'TEXT'])\n",
    "\n",
    "# corpus preprocessing\n",
    "corpus = preprocess_corpus(corpus)\n",
    "# preview first rows\n",
    "corpus.head()"
   ]
  },
  {
   "cell_type": "code",
   "execution_count": 46,
   "metadata": {},
   "outputs": [
    {
     "data": {
      "text/html": [
       "<div>\n",
       "<style scoped>\n",
       "    .dataframe tbody tr th:only-of-type {\n",
       "        vertical-align: middle;\n",
       "    }\n",
       "\n",
       "    .dataframe tbody tr th {\n",
       "        vertical-align: top;\n",
       "    }\n",
       "\n",
       "    .dataframe thead th {\n",
       "        text-align: right;\n",
       "    }\n",
       "</style>\n",
       "<table border=\"1\" class=\"dataframe\">\n",
       "  <thead>\n",
       "    <tr style=\"text-align: right;\">\n",
       "      <th></th>\n",
       "      <th>ID</th>\n",
       "      <th>TEXT</th>\n",
       "    </tr>\n",
       "  </thead>\n",
       "  <tbody>\n",
       "    <tr>\n",
       "      <th>0</th>\n",
       "      <td>PLAIN-1</td>\n",
       "      <td>deep fri food may caus cancer latest studi die...</td>\n",
       "    </tr>\n",
       "    <tr>\n",
       "      <th>1</th>\n",
       "      <td>PLAIN-1007</td>\n",
       "      <td>ddt persist organ pollut industri toxin pestic...</td>\n",
       "    </tr>\n",
       "    <tr>\n",
       "      <th>2</th>\n",
       "      <td>PLAIN-101</td>\n",
       "      <td>treat multipl sclerosi diet multipl sclerosi u...</td>\n",
       "    </tr>\n",
       "    <tr>\n",
       "      <th>3</th>\n",
       "      <td>PLAIN-1017</td>\n",
       "      <td>detoxif cancer raw food heart health heart dis...</td>\n",
       "    </tr>\n",
       "    <tr>\n",
       "      <th>4</th>\n",
       "      <td>PLAIN-1027</td>\n",
       "      <td>dietari guidelin heart diseas cardiovascular d...</td>\n",
       "    </tr>\n",
       "    <tr>\n",
       "      <th>5</th>\n",
       "      <td>PLAIN-1038</td>\n",
       "      <td>dog meat anim product cat heart health tobacco...</td>\n",
       "    </tr>\n",
       "    <tr>\n",
       "      <th>6</th>\n",
       "      <td>PLAIN-1049</td>\n",
       "      <td>dr heart health heart diseas egg cholesterol s...</td>\n",
       "    </tr>\n",
       "    <tr>\n",
       "      <th>7</th>\n",
       "      <td>PLAIN-1065</td>\n",
       "      <td>dr walter mortal heart diseas heart health die...</td>\n",
       "    </tr>\n",
       "    <tr>\n",
       "      <th>8</th>\n",
       "      <td>PLAIN-1077</td>\n",
       "      <td>thyroid health hijiki sushi iodin sea veget sa...</td>\n",
       "    </tr>\n",
       "    <tr>\n",
       "      <th>9</th>\n",
       "      <td>PLAIN-1087</td>\n",
       "      <td>easter island mortal muscl strength morbid moo...</td>\n",
       "    </tr>\n",
       "  </tbody>\n",
       "</table>\n",
       "</div>"
      ],
      "text/plain": [
       "           ID                                               TEXT\n",
       "0     PLAIN-1  deep fri food may caus cancer latest studi die...\n",
       "1  PLAIN-1007  ddt persist organ pollut industri toxin pestic...\n",
       "2   PLAIN-101  treat multipl sclerosi diet multipl sclerosi u...\n",
       "3  PLAIN-1017  detoxif cancer raw food heart health heart dis...\n",
       "4  PLAIN-1027  dietari guidelin heart diseas cardiovascular d...\n",
       "5  PLAIN-1038  dog meat anim product cat heart health tobacco...\n",
       "6  PLAIN-1049  dr heart health heart diseas egg cholesterol s...\n",
       "7  PLAIN-1065  dr walter mortal heart diseas heart health die...\n",
       "8  PLAIN-1077  thyroid health hijiki sushi iodin sea veget sa...\n",
       "9  PLAIN-1087  easter island mortal muscl strength morbid moo..."
      ]
     },
     "execution_count": 46,
     "metadata": {},
     "output_type": "execute_result"
    }
   ],
   "source": [
    "# load some queries for testing\n",
    "queries_text = pd.read_csv('nfcorpus/dev.all.queries', sep='\\t', names=['ID', 'TEXT'])\n",
    "\n",
    "queries_text = preprocess_queries(corpus, queries_text, output_string=True)\n",
    "queries_text.head(10)"
   ]
  },
  {
   "cell_type": "markdown",
   "metadata": {},
   "source": [
    "# Load Query-Doc Relevance"
   ]
  },
  {
   "cell_type": "code",
   "execution_count": 47,
   "metadata": {},
   "outputs": [
    {
     "data": {
      "text/html": [
       "<div>\n",
       "<style scoped>\n",
       "    .dataframe tbody tr th:only-of-type {\n",
       "        vertical-align: middle;\n",
       "    }\n",
       "\n",
       "    .dataframe tbody tr th {\n",
       "        vertical-align: top;\n",
       "    }\n",
       "\n",
       "    .dataframe thead th {\n",
       "        text-align: right;\n",
       "    }\n",
       "</style>\n",
       "<table border=\"1\" class=\"dataframe\">\n",
       "  <thead>\n",
       "    <tr style=\"text-align: right;\">\n",
       "      <th></th>\n",
       "      <th>QUERY_ID</th>\n",
       "      <th>0</th>\n",
       "      <th>DOC_ID</th>\n",
       "      <th>RELEVANCE_LEVEL</th>\n",
       "    </tr>\n",
       "  </thead>\n",
       "  <tbody>\n",
       "    <tr>\n",
       "      <th>0</th>\n",
       "      <td>PLAIN-1</td>\n",
       "      <td>0</td>\n",
       "      <td>MED-2421</td>\n",
       "      <td>2</td>\n",
       "    </tr>\n",
       "    <tr>\n",
       "      <th>1</th>\n",
       "      <td>PLAIN-1</td>\n",
       "      <td>0</td>\n",
       "      <td>MED-2422</td>\n",
       "      <td>2</td>\n",
       "    </tr>\n",
       "    <tr>\n",
       "      <th>2</th>\n",
       "      <td>PLAIN-1</td>\n",
       "      <td>0</td>\n",
       "      <td>MED-2416</td>\n",
       "      <td>2</td>\n",
       "    </tr>\n",
       "    <tr>\n",
       "      <th>3</th>\n",
       "      <td>PLAIN-1</td>\n",
       "      <td>0</td>\n",
       "      <td>MED-2423</td>\n",
       "      <td>2</td>\n",
       "    </tr>\n",
       "    <tr>\n",
       "      <th>4</th>\n",
       "      <td>PLAIN-1</td>\n",
       "      <td>0</td>\n",
       "      <td>MED-2417</td>\n",
       "      <td>2</td>\n",
       "    </tr>\n",
       "    <tr>\n",
       "      <th>5</th>\n",
       "      <td>PLAIN-1</td>\n",
       "      <td>0</td>\n",
       "      <td>MED-2418</td>\n",
       "      <td>2</td>\n",
       "    </tr>\n",
       "    <tr>\n",
       "      <th>6</th>\n",
       "      <td>PLAIN-1</td>\n",
       "      <td>0</td>\n",
       "      <td>MED-4451</td>\n",
       "      <td>2</td>\n",
       "    </tr>\n",
       "    <tr>\n",
       "      <th>7</th>\n",
       "      <td>PLAIN-1</td>\n",
       "      <td>0</td>\n",
       "      <td>MED-2420</td>\n",
       "      <td>2</td>\n",
       "    </tr>\n",
       "    <tr>\n",
       "      <th>8</th>\n",
       "      <td>PLAIN-1</td>\n",
       "      <td>0</td>\n",
       "      <td>MED-2414</td>\n",
       "      <td>1</td>\n",
       "    </tr>\n",
       "    <tr>\n",
       "      <th>9</th>\n",
       "      <td>PLAIN-1</td>\n",
       "      <td>0</td>\n",
       "      <td>MED-4070</td>\n",
       "      <td>1</td>\n",
       "    </tr>\n",
       "  </tbody>\n",
       "</table>\n",
       "</div>"
      ],
      "text/plain": [
       "  QUERY_ID  0    DOC_ID  RELEVANCE_LEVEL\n",
       "0  PLAIN-1  0  MED-2421                2\n",
       "1  PLAIN-1  0  MED-2422                2\n",
       "2  PLAIN-1  0  MED-2416                2\n",
       "3  PLAIN-1  0  MED-2423                2\n",
       "4  PLAIN-1  0  MED-2417                2\n",
       "5  PLAIN-1  0  MED-2418                2\n",
       "6  PLAIN-1  0  MED-4451                2\n",
       "7  PLAIN-1  0  MED-2420                2\n",
       "8  PLAIN-1  0  MED-2414                1\n",
       "9  PLAIN-1  0  MED-4070                1"
      ]
     },
     "execution_count": 47,
     "metadata": {},
     "output_type": "execute_result"
    }
   ],
   "source": [
    "#upload the query relevance\n",
    "queries_relevance = pd.read_csv('nfcorpus/dev.2-1-0.qrel', sep='\\t', names=['QUERY_ID', '0', 'DOC_ID', 'RELEVANCE_LEVEL'])\n",
    "queries_relevance.head(10)"
   ]
  },
  {
   "cell_type": "markdown",
   "metadata": {},
   "source": [
    "##  Create TF-IDF matrix for documents"
   ]
  },
  {
   "cell_type": "code",
   "execution_count": 48,
   "metadata": {},
   "outputs": [
    {
     "data": {
      "text/html": [
       "<div>\n",
       "<style scoped>\n",
       "    .dataframe tbody tr th:only-of-type {\n",
       "        vertical-align: middle;\n",
       "    }\n",
       "\n",
       "    .dataframe tbody tr th {\n",
       "        vertical-align: top;\n",
       "    }\n",
       "\n",
       "    .dataframe thead th {\n",
       "        text-align: right;\n",
       "    }\n",
       "</style>\n",
       "<table border=\"1\" class=\"dataframe\">\n",
       "  <thead>\n",
       "    <tr style=\"text-align: right;\">\n",
       "      <th></th>\n",
       "      <th>alkylphenol</th>\n",
       "      <th>human</th>\n",
       "      <th>milk</th>\n",
       "      <th>relat</th>\n",
       "      <th>dietari</th>\n",
       "      <th>habit</th>\n",
       "      <th>central</th>\n",
       "      <th>taiwan</th>\n",
       "      <th>pubm</th>\n",
       "      <th>ncbi</th>\n",
       "      <th>...</th>\n",
       "      <th>six-year</th>\n",
       "      <th>inchianti</th>\n",
       "      <th>tuscani</th>\n",
       "      <th>studies-depress</th>\n",
       "      <th>eurosav</th>\n",
       "      <th>self-inflict</th>\n",
       "      <th>eurostat</th>\n",
       "      <th>suicide-record</th>\n",
       "      <th>scarciti</th>\n",
       "      <th>trim-and-fil</th>\n",
       "    </tr>\n",
       "  </thead>\n",
       "  <tbody>\n",
       "    <tr>\n",
       "      <th>0</th>\n",
       "      <td>6.122806</td>\n",
       "      <td>2.886416</td>\n",
       "      <td>6.547579</td>\n",
       "      <td>2.90854</td>\n",
       "      <td>2.095849</td>\n",
       "      <td>5.898499</td>\n",
       "      <td>3.473596</td>\n",
       "      <td>5.503767</td>\n",
       "      <td>0.266507</td>\n",
       "      <td>0.27307</td>\n",
       "      <td>...</td>\n",
       "      <td>0.0</td>\n",
       "      <td>0.0</td>\n",
       "      <td>0.0</td>\n",
       "      <td>0.0</td>\n",
       "      <td>0.0</td>\n",
       "      <td>0.0</td>\n",
       "      <td>0.0</td>\n",
       "      <td>0.0</td>\n",
       "      <td>0.0</td>\n",
       "      <td>0.0</td>\n",
       "    </tr>\n",
       "    <tr>\n",
       "      <th>1</th>\n",
       "      <td>0.000000</td>\n",
       "      <td>0.000000</td>\n",
       "      <td>0.000000</td>\n",
       "      <td>0.00000</td>\n",
       "      <td>0.000000</td>\n",
       "      <td>0.000000</td>\n",
       "      <td>0.000000</td>\n",
       "      <td>0.000000</td>\n",
       "      <td>0.266507</td>\n",
       "      <td>0.27307</td>\n",
       "      <td>...</td>\n",
       "      <td>0.0</td>\n",
       "      <td>0.0</td>\n",
       "      <td>0.0</td>\n",
       "      <td>0.0</td>\n",
       "      <td>0.0</td>\n",
       "      <td>0.0</td>\n",
       "      <td>0.0</td>\n",
       "      <td>0.0</td>\n",
       "      <td>0.0</td>\n",
       "      <td>0.0</td>\n",
       "    </tr>\n",
       "    <tr>\n",
       "      <th>2</th>\n",
       "      <td>0.000000</td>\n",
       "      <td>0.000000</td>\n",
       "      <td>0.000000</td>\n",
       "      <td>0.00000</td>\n",
       "      <td>2.597750</td>\n",
       "      <td>0.000000</td>\n",
       "      <td>0.000000</td>\n",
       "      <td>0.000000</td>\n",
       "      <td>0.000000</td>\n",
       "      <td>0.00000</td>\n",
       "      <td>...</td>\n",
       "      <td>0.0</td>\n",
       "      <td>0.0</td>\n",
       "      <td>0.0</td>\n",
       "      <td>0.0</td>\n",
       "      <td>0.0</td>\n",
       "      <td>0.0</td>\n",
       "      <td>0.0</td>\n",
       "      <td>0.0</td>\n",
       "      <td>0.0</td>\n",
       "      <td>0.0</td>\n",
       "    </tr>\n",
       "    <tr>\n",
       "      <th>3</th>\n",
       "      <td>0.000000</td>\n",
       "      <td>0.000000</td>\n",
       "      <td>0.000000</td>\n",
       "      <td>0.00000</td>\n",
       "      <td>2.597750</td>\n",
       "      <td>0.000000</td>\n",
       "      <td>0.000000</td>\n",
       "      <td>0.000000</td>\n",
       "      <td>0.266507</td>\n",
       "      <td>0.27307</td>\n",
       "      <td>...</td>\n",
       "      <td>0.0</td>\n",
       "      <td>0.0</td>\n",
       "      <td>0.0</td>\n",
       "      <td>0.0</td>\n",
       "      <td>0.0</td>\n",
       "      <td>0.0</td>\n",
       "      <td>0.0</td>\n",
       "      <td>0.0</td>\n",
       "      <td>0.0</td>\n",
       "      <td>0.0</td>\n",
       "    </tr>\n",
       "    <tr>\n",
       "      <th>4</th>\n",
       "      <td>0.000000</td>\n",
       "      <td>0.000000</td>\n",
       "      <td>0.000000</td>\n",
       "      <td>0.00000</td>\n",
       "      <td>0.000000</td>\n",
       "      <td>0.000000</td>\n",
       "      <td>0.000000</td>\n",
       "      <td>0.000000</td>\n",
       "      <td>0.266507</td>\n",
       "      <td>0.27307</td>\n",
       "      <td>...</td>\n",
       "      <td>0.0</td>\n",
       "      <td>0.0</td>\n",
       "      <td>0.0</td>\n",
       "      <td>0.0</td>\n",
       "      <td>0.0</td>\n",
       "      <td>0.0</td>\n",
       "      <td>0.0</td>\n",
       "      <td>0.0</td>\n",
       "      <td>0.0</td>\n",
       "      <td>0.0</td>\n",
       "    </tr>\n",
       "  </tbody>\n",
       "</table>\n",
       "<p>5 rows × 19930 columns</p>\n",
       "</div>"
      ],
      "text/plain": [
       "   alkylphenol     human      milk    relat   dietari     habit   central  \\\n",
       "0     6.122806  2.886416  6.547579  2.90854  2.095849  5.898499  3.473596   \n",
       "1     0.000000  0.000000  0.000000  0.00000  0.000000  0.000000  0.000000   \n",
       "2     0.000000  0.000000  0.000000  0.00000  2.597750  0.000000  0.000000   \n",
       "3     0.000000  0.000000  0.000000  0.00000  2.597750  0.000000  0.000000   \n",
       "4     0.000000  0.000000  0.000000  0.00000  0.000000  0.000000  0.000000   \n",
       "\n",
       "     taiwan      pubm     ncbi  ...  six-year  inchianti  tuscani  \\\n",
       "0  5.503767  0.266507  0.27307  ...       0.0        0.0      0.0   \n",
       "1  0.000000  0.266507  0.27307  ...       0.0        0.0      0.0   \n",
       "2  0.000000  0.000000  0.00000  ...       0.0        0.0      0.0   \n",
       "3  0.000000  0.266507  0.27307  ...       0.0        0.0      0.0   \n",
       "4  0.000000  0.266507  0.27307  ...       0.0        0.0      0.0   \n",
       "\n",
       "   studies-depress  eurosav  self-inflict  eurostat  suicide-record  scarciti  \\\n",
       "0              0.0      0.0           0.0       0.0             0.0       0.0   \n",
       "1              0.0      0.0           0.0       0.0             0.0       0.0   \n",
       "2              0.0      0.0           0.0       0.0             0.0       0.0   \n",
       "3              0.0      0.0           0.0       0.0             0.0       0.0   \n",
       "4              0.0      0.0           0.0       0.0             0.0       0.0   \n",
       "\n",
       "   trim-and-fil  \n",
       "0           0.0  \n",
       "1           0.0  \n",
       "2           0.0  \n",
       "3           0.0  \n",
       "4           0.0  \n",
       "\n",
       "[5 rows x 19930 columns]"
      ]
     },
     "execution_count": 48,
     "metadata": {},
     "output_type": "execute_result"
    }
   ],
   "source": [
    "#create TF-IDF matrix of corpus\n",
    "tf_dict = tf(corpus, column_name = 'TEXT')\n",
    "idf_dict = idf(corpus, tf_dict)\n",
    "tf_idf_dict = tf_idf(tf_dict, idf_dict)\n",
    "tf_idf_matrix = tf_idf_to_matrix(tf_idf_dict)\n",
    "tf_idf_matrix.head()"
   ]
  },
  {
   "cell_type": "markdown",
   "metadata": {},
   "source": [
    "# Create TF-IDF matrix for queries"
   ]
  },
  {
   "cell_type": "code",
   "execution_count": 64,
   "metadata": {},
   "outputs": [],
   "source": [
    "\n",
    "def queries_tf_idf(tf_idf_matrix, idf_dict, queries, tokenize = True):\n",
    "    #create tf-idf matrix of queries\n",
    "    tf_idf_queries = tf_idf_matrix[0:0]\n",
    "    \n",
    "    for i in range(len(queries)):\n",
    "        tf_idf_queries = tf_idf_queries.append(pd.Series(0, index=tf_idf_queries.columns), ignore_index=True)\n",
    "        #count occurances\n",
    "        if tokenize:\n",
    "            for token in (queries['TEXT'][i]):\n",
    "                for col in tf_idf_queries.columns:\n",
    "                    if token == col:\n",
    "                        tf_idf_queries[col][i] = tf_idf_queries[col][i] + 1\n",
    "        else: \n",
    "            for token in (queries['TEXT'][i]).split():\n",
    "                for col in tf_idf_queries.columns:\n",
    "                    if token == col:\n",
    "                        tf_idf_queries[col][i] = tf_idf_queries[col][i] + 1\n",
    "                \n",
    "    #calculate log tf\n",
    "    tf_idf_queries = np.log(tf_idf_queries) + 1 \n",
    "    tf_idf_queries = tf_idf_queries.replace(-np.inf,0)\n",
    "    \n",
    "    for i in range(len(queries)):\n",
    "        for col in tf_idf_queries.columns:\n",
    "            tf_idf_queries[col][i] = tf_idf_queries[col][i] * idf_dict[col]\n",
    "    \n",
    "    return tf_idf_queries"
   ]
  },
  {
   "cell_type": "code",
   "execution_count": null,
   "metadata": {},
   "outputs": [],
   "source": [
    "tf_idf_queries = queries_tf_idf(tf_idf_matrix, idf_dict, queries_text, tokenize = False)\n",
    "tf_idf_queries.head()"
   ]
  },
  {
   "cell_type": "markdown",
   "metadata": {},
   "source": [
    "# Create vectors"
   ]
  },
  {
   "cell_type": "code",
   "execution_count": 50,
   "metadata": {},
   "outputs": [
    {
     "data": {
      "text/html": [
       "<div>\n",
       "<style scoped>\n",
       "    .dataframe tbody tr th:only-of-type {\n",
       "        vertical-align: middle;\n",
       "    }\n",
       "\n",
       "    .dataframe tbody tr th {\n",
       "        vertical-align: top;\n",
       "    }\n",
       "\n",
       "    .dataframe thead th {\n",
       "        text-align: right;\n",
       "    }\n",
       "</style>\n",
       "<table border=\"1\" class=\"dataframe\">\n",
       "  <thead>\n",
       "    <tr style=\"text-align: right;\">\n",
       "      <th></th>\n",
       "      <th>ID</th>\n",
       "      <th>TEXT</th>\n",
       "    </tr>\n",
       "  </thead>\n",
       "  <tbody>\n",
       "    <tr>\n",
       "      <th>1142</th>\n",
       "      <td>MED-2423</td>\n",
       "      <td>dietari pattern breast cancer risk women pubm ...</td>\n",
       "    </tr>\n",
       "    <tr>\n",
       "      <th>1138</th>\n",
       "      <td>MED-2418</td>\n",
       "      <td>consumpt deep-fri food risk prostat cancera b ...</td>\n",
       "    </tr>\n",
       "    <tr>\n",
       "      <th>956</th>\n",
       "      <td>MED-2195</td>\n",
       "      <td>influenc deep fri veget oil acrylamid format s...</td>\n",
       "    </tr>\n",
       "    <tr>\n",
       "      <th>1794</th>\n",
       "      <td>MED-3498</td>\n",
       "      <td>dietari acrylamid exposur french popul result ...</td>\n",
       "    </tr>\n",
       "    <tr>\n",
       "      <th>1141</th>\n",
       "      <td>MED-2422</td>\n",
       "      <td>statist regress model estim acrylamid concentr...</td>\n",
       "    </tr>\n",
       "  </tbody>\n",
       "</table>\n",
       "</div>"
      ],
      "text/plain": [
       "            ID                                               TEXT\n",
       "1142  MED-2423  dietari pattern breast cancer risk women pubm ...\n",
       "1138  MED-2418  consumpt deep-fri food risk prostat cancera b ...\n",
       "956   MED-2195  influenc deep fri veget oil acrylamid format s...\n",
       "1794  MED-3498  dietari acrylamid exposur french popul result ...\n",
       "1141  MED-2422  statist regress model estim acrylamid concentr..."
      ]
     },
     "execution_count": 50,
     "metadata": {},
     "output_type": "execute_result"
    }
   ],
   "source": [
    "#create variables for document and query vectors\n",
    "doc_vectors = tf_idf_matrix.values\n",
    "q_vectors = tf_idf_queries.values\n",
    "#test the basic retrieve\n",
    "retrieve(0, q_vectors, doc_vectors, k=5)"
   ]
  },
  {
   "cell_type": "code",
   "execution_count": 60,
   "metadata": {},
   "outputs": [
    {
     "name": "stdout",
     "output_type": "stream",
     "text": [
      "Average precision across all queries = 0.3940000000000002\n",
      "Mean Average Precision = 0.26045641025641053\n",
      "Average nDCG = 0.3359780305894626\n",
      "-649.450582742691\n"
     ]
    }
   ],
   "source": [
    "start = time.time()\n",
    "vanilla_evaluation = full_evaluation(q_vectors, doc_vectors, k=5)\n",
    "end = start - time.time()\n",
    "print(end)"
   ]
  },
  {
   "cell_type": "code",
   "execution_count": 52,
   "metadata": {},
   "outputs": [
    {
     "data": {
      "text/html": [
       "<div>\n",
       "<style scoped>\n",
       "    .dataframe tbody tr th:only-of-type {\n",
       "        vertical-align: middle;\n",
       "    }\n",
       "\n",
       "    .dataframe tbody tr th {\n",
       "        vertical-align: top;\n",
       "    }\n",
       "\n",
       "    .dataframe thead th {\n",
       "        text-align: right;\n",
       "    }\n",
       "</style>\n",
       "<table border=\"1\" class=\"dataframe\">\n",
       "  <thead>\n",
       "    <tr style=\"text-align: right;\">\n",
       "      <th></th>\n",
       "      <th>ID</th>\n",
       "      <th>TEXT</th>\n",
       "      <th>Precision</th>\n",
       "      <th>Average Precision</th>\n",
       "      <th>nDCG</th>\n",
       "    </tr>\n",
       "  </thead>\n",
       "  <tbody>\n",
       "    <tr>\n",
       "      <th>0</th>\n",
       "      <td>PLAIN-1</td>\n",
       "      <td>deep fri food may caus cancer latest studi die...</td>\n",
       "      <td>0.8</td>\n",
       "      <td>0.543333</td>\n",
       "      <td>0.595237</td>\n",
       "    </tr>\n",
       "    <tr>\n",
       "      <th>1</th>\n",
       "      <td>PLAIN-1007</td>\n",
       "      <td>ddt persist organ pollut industri toxin pestic...</td>\n",
       "      <td>0.2</td>\n",
       "      <td>0.040000</td>\n",
       "      <td>0.131205</td>\n",
       "    </tr>\n",
       "    <tr>\n",
       "      <th>2</th>\n",
       "      <td>PLAIN-101</td>\n",
       "      <td>treat multipl sclerosi diet multipl sclerosi u...</td>\n",
       "      <td>0.4</td>\n",
       "      <td>0.233333</td>\n",
       "      <td>0.298776</td>\n",
       "    </tr>\n",
       "    <tr>\n",
       "      <th>3</th>\n",
       "      <td>PLAIN-1017</td>\n",
       "      <td>detoxif cancer raw food heart health heart dis...</td>\n",
       "      <td>0.0</td>\n",
       "      <td>0.000000</td>\n",
       "      <td>0.000000</td>\n",
       "    </tr>\n",
       "    <tr>\n",
       "      <th>4</th>\n",
       "      <td>PLAIN-1027</td>\n",
       "      <td>dietari guidelin heart diseas cardiovascular d...</td>\n",
       "      <td>0.0</td>\n",
       "      <td>0.000000</td>\n",
       "      <td>0.000000</td>\n",
       "    </tr>\n",
       "  </tbody>\n",
       "</table>\n",
       "</div>"
      ],
      "text/plain": [
       "           ID                                               TEXT  Precision  \\\n",
       "0     PLAIN-1  deep fri food may caus cancer latest studi die...        0.8   \n",
       "1  PLAIN-1007  ddt persist organ pollut industri toxin pestic...        0.2   \n",
       "2   PLAIN-101  treat multipl sclerosi diet multipl sclerosi u...        0.4   \n",
       "3  PLAIN-1017  detoxif cancer raw food heart health heart dis...        0.0   \n",
       "4  PLAIN-1027  dietari guidelin heart diseas cardiovascular d...        0.0   \n",
       "\n",
       "   Average Precision      nDCG  \n",
       "0           0.543333  0.595237  \n",
       "1           0.040000  0.131205  \n",
       "2           0.233333  0.298776  \n",
       "3           0.000000  0.000000  \n",
       "4           0.000000  0.000000  "
      ]
     },
     "execution_count": 52,
     "metadata": {},
     "output_type": "execute_result"
    }
   ],
   "source": [
    "vanilla_evaluation.head()"
   ]
  },
  {
   "cell_type": "markdown",
   "metadata": {},
   "source": [
    "# Random projections"
   ]
  },
  {
   "cell_type": "code",
   "execution_count": 53,
   "metadata": {},
   "outputs": [
    {
     "name": "stdout",
     "output_type": "stream",
     "text": [
      "dimension of the set of random vectors:  (15000, 19930)\n",
      "[-0.01483543  0.00217144  0.00685049 ... -0.01615313 -0.0048027\n",
      " -0.00412668]\n",
      "1.0\n"
     ]
    }
   ],
   "source": [
    "#create normalized random vectors\n",
    "\n",
    "np.random.seed(0)\n",
    "vocab_size = len(tf_idf_matrix.columns)\n",
    "random_vectors = get_random_vectors(vocab_size, m = 15000)\n",
    "\n",
    "print('dimension of the set of random vectors: ', random_vectors.shape)\n",
    "print(random_vectors[1])\n",
    "print(np.linalg.norm(random_vectors[1]))\n"
   ]
  },
  {
   "cell_type": "markdown",
   "metadata": {},
   "source": [
    "# Create new document vectors with reduced dimensionality"
   ]
  },
  {
   "cell_type": "code",
   "execution_count": 54,
   "metadata": {},
   "outputs": [
    {
     "data": {
      "text/plain": [
       "array([1, 1, 1, ..., 0, 0, 1])"
      ]
     },
     "execution_count": 54,
     "metadata": {},
     "output_type": "execute_result"
    }
   ],
   "source": [
    "#compute new document vectors with reduced dimensionality\n",
    "doc_projections = compute_hash(norm(doc_vectors), random_vectors, 0)\n",
    "doc_projections[1]"
   ]
  },
  {
   "cell_type": "markdown",
   "metadata": {},
   "source": [
    "# Create new query vectors with reduced dimensionality"
   ]
  },
  {
   "cell_type": "code",
   "execution_count": 55,
   "metadata": {},
   "outputs": [],
   "source": [
    "#compute new query vectors with reduced dimensionality\n",
    "q_projections = compute_hash(norm(q_vectors),random_vectors, 0)"
   ]
  },
  {
   "cell_type": "markdown",
   "metadata": {},
   "source": [
    "# Random projections evaluation"
   ]
  },
  {
   "cell_type": "code",
   "execution_count": 56,
   "metadata": {},
   "outputs": [
    {
     "name": "stdout",
     "output_type": "stream",
     "text": [
      "Average precision across all queries = 0.38138461538461566\n",
      "Mean Average Precision = 0.24951965811965837\n",
      "Average nDCG = 0.32692184828998233\n",
      "Wall time: 18.2 s\n"
     ]
    }
   ],
   "source": [
    "%%time\n",
    "rand_proj_evaluation = full_evaluation(q_projections, doc_projections, k=5, random_projections = True)"
   ]
  },
  {
   "cell_type": "code",
   "execution_count": 57,
   "metadata": {},
   "outputs": [
    {
     "data": {
      "text/html": [
       "<div>\n",
       "<style scoped>\n",
       "    .dataframe tbody tr th:only-of-type {\n",
       "        vertical-align: middle;\n",
       "    }\n",
       "\n",
       "    .dataframe tbody tr th {\n",
       "        vertical-align: top;\n",
       "    }\n",
       "\n",
       "    .dataframe thead th {\n",
       "        text-align: right;\n",
       "    }\n",
       "</style>\n",
       "<table border=\"1\" class=\"dataframe\">\n",
       "  <thead>\n",
       "    <tr style=\"text-align: right;\">\n",
       "      <th></th>\n",
       "      <th>ID</th>\n",
       "      <th>TEXT</th>\n",
       "      <th>Precision</th>\n",
       "      <th>Average Precision</th>\n",
       "      <th>nDCG</th>\n",
       "    </tr>\n",
       "  </thead>\n",
       "  <tbody>\n",
       "    <tr>\n",
       "      <th>0</th>\n",
       "      <td>PLAIN-1</td>\n",
       "      <td>deep fri food may caus cancer latest studi die...</td>\n",
       "      <td>0.8</td>\n",
       "      <td>0.543333</td>\n",
       "      <td>0.595237</td>\n",
       "    </tr>\n",
       "    <tr>\n",
       "      <th>1</th>\n",
       "      <td>PLAIN-1007</td>\n",
       "      <td>ddt persist organ pollut industri toxin pestic...</td>\n",
       "      <td>0.4</td>\n",
       "      <td>0.130000</td>\n",
       "      <td>0.277273</td>\n",
       "    </tr>\n",
       "    <tr>\n",
       "      <th>2</th>\n",
       "      <td>PLAIN-101</td>\n",
       "      <td>treat multipl sclerosi diet multipl sclerosi u...</td>\n",
       "      <td>0.4</td>\n",
       "      <td>0.233333</td>\n",
       "      <td>0.298776</td>\n",
       "    </tr>\n",
       "    <tr>\n",
       "      <th>3</th>\n",
       "      <td>PLAIN-1017</td>\n",
       "      <td>detoxif cancer raw food heart health heart dis...</td>\n",
       "      <td>0.0</td>\n",
       "      <td>0.000000</td>\n",
       "      <td>0.000000</td>\n",
       "    </tr>\n",
       "    <tr>\n",
       "      <th>4</th>\n",
       "      <td>PLAIN-1027</td>\n",
       "      <td>dietari guidelin heart diseas cardiovascular d...</td>\n",
       "      <td>0.2</td>\n",
       "      <td>0.100000</td>\n",
       "      <td>0.213986</td>\n",
       "    </tr>\n",
       "  </tbody>\n",
       "</table>\n",
       "</div>"
      ],
      "text/plain": [
       "           ID                                               TEXT  Precision  \\\n",
       "0     PLAIN-1  deep fri food may caus cancer latest studi die...        0.8   \n",
       "1  PLAIN-1007  ddt persist organ pollut industri toxin pestic...        0.4   \n",
       "2   PLAIN-101  treat multipl sclerosi diet multipl sclerosi u...        0.4   \n",
       "3  PLAIN-1017  detoxif cancer raw food heart health heart dis...        0.0   \n",
       "4  PLAIN-1027  dietari guidelin heart diseas cardiovascular d...        0.2   \n",
       "\n",
       "   Average Precision      nDCG  \n",
       "0           0.543333  0.595237  \n",
       "1           0.130000  0.277273  \n",
       "2           0.233333  0.298776  \n",
       "3           0.000000  0.000000  \n",
       "4           0.100000  0.213986  "
      ]
     },
     "execution_count": 57,
     "metadata": {},
     "output_type": "execute_result"
    }
   ],
   "source": [
    "rand_proj_evaluation.head()"
   ]
  },
  {
   "cell_type": "code",
   "execution_count": 58,
   "metadata": {},
   "outputs": [
    {
     "name": "stdout",
     "output_type": "stream",
     "text": [
      "Average precision across all queries = 0.1779487179487181\n",
      "Mean Average Precision = 0.09175726495726495\n",
      "Average nDCG = 0.14780739031794277\n",
      "Average precision across all queries = 0.3164615384615387\n",
      "Mean Average Precision = 0.19847606837606843\n",
      "Average nDCG = 0.2701414620563098\n",
      "Average precision across all queries = 0.3550256410256412\n",
      "Mean Average Precision = 0.23705982905982917\n",
      "Average nDCG = 0.309112459954689\n",
      "Average precision across all queries = 0.3701025641025642\n",
      "Mean Average Precision = 0.2440444444444446\n",
      "Average nDCG = 0.3178511965149954\n"
     ]
    },
    {
     "data": {
      "text/plain": [
       "<function matplotlib.pyplot.show(*args, **kw)>"
      ]
     },
     "execution_count": 58,
     "metadata": {},
     "output_type": "execute_result"
    },
    {
     "data": {
      "image/png": "[encoded data removed]",
      "text/plain": [
       "<Figure size 432x288 with 1 Axes>"
      ]
     },
     "metadata": {
      "needs_background": "light"
     },
     "output_type": "display_data"
    }
   ],
   "source": [
    "precision=[]\n",
    "MAP=[]\n",
    "nDCG=[]\n",
    "time_get_rand_vec = []\n",
    "time_hash_norm_doc = []\n",
    "time_hash_norm_q=[]\n",
    "time_evaluation=[]\n",
    "for i in [1000, 5000, 10000, 15000]:\n",
    "    start_time_rand_vect = time.time()\n",
    "    random_vectors_test = get_random_vectors(vocab_size, m = i)\n",
    "    time_get_rand_vec.append(time.time()-start_time_rand_vect)\n",
    "    \n",
    "    start_hash_norm_doc = time.time()\n",
    "    doc_projections_test = compute_hash(norm(doc_vectors), random_vectors_test, 0)\n",
    "    time_hash_norm_doc.append(time.time() - start_hash_norm_doc)\n",
    "    \n",
    "    start_hash_norm_q = time.time()\n",
    "    q_projections_test = compute_hash(norm(q_vectors),random_vectors_test, 0)\n",
    "    time_hash_norm_q.append(time.time() - start_hash_norm_q)\n",
    "    \n",
    "    start_evaluation = time.time()\n",
    "    rand_proj_evaluation_test = full_evaluation(q_projections_test, doc_projections_test, k=5, random_projections = True)\n",
    "    time_evaluation.append(time.time() - start_evaluation)\n",
    "    \n",
    "    precision.append(rand_proj_evaluation_test['Precision'].mean())\n",
    "    MAP.append(rand_proj_evaluation_test['Average Precision'].mean())\n",
    "    nDCG.append(rand_proj_evaluation_test['nDCG'].mean())\n",
    "    \n",
    "plt.plot([1000, 5000, 10000, 15000], precision, label = \"Precision\")\n",
    "plt.plot([1000, 5000, 10000, 15000], MAP, label = \"MAP\")\n",
    "plt.plot([1000, 5000, 10000, 15000], nDCG, label = \"nDCG\")\n",
    "plt.legend()\n",
    "plt.show"
   ]
  },
  {
   "cell_type": "code",
   "execution_count": 59,
   "metadata": {},
   "outputs": [
    {
     "data": {
      "image/png": "[encoded data removed]",
      "text/plain": [
       "<Figure size 432x288 with 1 Axes>"
      ]
     },
     "metadata": {
      "needs_background": "light"
     },
     "output_type": "display_data"
    }
   ],
   "source": [
    "plt.plot([1000, 5000, 10000, 15000], time_get_rand_vec, label = \"Generate random vectors\")\n",
    "plt.plot([1000, 5000, 10000, 15000], time_hash_norm_doc, label = \"Project doc vectors\")\n",
    "plt.plot([1000, 5000, 10000, 15000], time_hash_norm_q, label = \"Project query vectors\")\n",
    "plt.plot([1000, 5000, 10000, 15000], time_evaluation, label = \"Evaluation\")\n",
    "plt.legend()\n",
    "plt.show()"
   ]
  },
  {
   "cell_type": "code",
   "execution_count": 42,
   "metadata": {},
   "outputs": [
    {
     "name": "stdout",
     "output_type": "stream",
     "text": [
      "[1.7727572917938232, 8.760239839553833, 16.452727794647217, 28.13932967185974]\n",
      "[42.11061239242554, 203.1234107017517, 401.8053102493286, 627.9776992797852]\n",
      "[4.231029033660889, 20.0310275554657, 39.07094669342041, 67.06368494033813]\n",
      "[28.25801968574524, 32.205501317977905, 38.676156997680664, 45.93205213546753]\n"
     ]
    }
   ],
   "source": [
    "print(time_get_rand_vec)\n",
    "print(time_hash_norm_doc)\n",
    "print(time_hash_norm_q)\n",
    "print(time_evaluation)\n"
   ]
  }
 ],
 "metadata": {
  "kernelspec": {
   "display_name": "Python 3",
   "language": "python",
   "name": "python3"
  },
  "language_info": {
   "codemirror_mode": {
    "name": "ipython",
    "version": 3
   },
   "file_extension": ".py",
   "mimetype": "text/x-python",
   "name": "python",
   "nbconvert_exporter": "python",
   "pygments_lexer": "ipython3",
   "version": "3.7.3"
  }
 },
 "nbformat": 4,
 "nbformat_minor": 2
}

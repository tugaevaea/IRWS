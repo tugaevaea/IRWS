{
 "cells": [
  {
   "cell_type": "code",
   "execution_count": 19,
   "metadata": {},
   "outputs": [
    {
     "name": "stderr",
     "output_type": "stream",
     "text": [
      "[nltk_data] Downloading package punkt to\n",
      "[nltk_data]     C:\\Users\\linar\\AppData\\Roaming\\nltk_data...\n",
      "[nltk_data]   Package punkt is already up-to-date!\n"
     ]
    }
   ],
   "source": [
    "import pandas as pd\n",
    "import math\n",
    "import numpy as np \n",
    "import string\n",
    "import time\n",
    "\n",
    "from IPython import get_ipython\n",
    "\n",
    "get_ipython().magic('run -i \"functions_helper.py\"')"
   ]
  },
  {
   "cell_type": "markdown",
   "metadata": {},
   "source": [
    "## Data Preprocessing"
   ]
  },
  {
   "cell_type": "code",
   "execution_count": 2,
   "metadata": {},
   "outputs": [
    {
     "data": {
      "text/html": [
       "<div>\n",
       "<style scoped>\n",
       "    .dataframe tbody tr th:only-of-type {\n",
       "        vertical-align: middle;\n",
       "    }\n",
       "\n",
       "    .dataframe tbody tr th {\n",
       "        vertical-align: top;\n",
       "    }\n",
       "\n",
       "    .dataframe thead th {\n",
       "        text-align: right;\n",
       "    }\n",
       "</style>\n",
       "<table border=\"1\" class=\"dataframe\">\n",
       "  <thead>\n",
       "    <tr style=\"text-align: right;\">\n",
       "      <th></th>\n",
       "      <th>ID</th>\n",
       "      <th>TEXT</th>\n",
       "    </tr>\n",
       "  </thead>\n",
       "  <tbody>\n",
       "    <tr>\n",
       "      <th>0</th>\n",
       "      <td>MED-118</td>\n",
       "      <td>alkylphenol human milk relat dietari habit cen...</td>\n",
       "    </tr>\n",
       "    <tr>\n",
       "      <th>1</th>\n",
       "      <td>MED-329</td>\n",
       "      <td>phosphat vascular toxin pubm ncbi abstract ele...</td>\n",
       "    </tr>\n",
       "    <tr>\n",
       "      <th>2</th>\n",
       "      <td>MED-330</td>\n",
       "      <td>dietari phosphoru acut impair endotheli functi...</td>\n",
       "    </tr>\n",
       "    <tr>\n",
       "      <th>3</th>\n",
       "      <td>MED-332</td>\n",
       "      <td>public health impact dietari phosphoru excess ...</td>\n",
       "    </tr>\n",
       "    <tr>\n",
       "      <th>4</th>\n",
       "      <td>MED-334</td>\n",
       "      <td>differ total vitro digest phosphoru content pl...</td>\n",
       "    </tr>\n",
       "  </tbody>\n",
       "</table>\n",
       "</div>"
      ],
      "text/plain": [
       "        ID                                               TEXT\n",
       "0  MED-118  alkylphenol human milk relat dietari habit cen...\n",
       "1  MED-329  phosphat vascular toxin pubm ncbi abstract ele...\n",
       "2  MED-330  dietari phosphoru acut impair endotheli functi...\n",
       "3  MED-332  public health impact dietari phosphoru excess ...\n",
       "4  MED-334  differ total vitro digest phosphoru content pl..."
      ]
     },
     "execution_count": 2,
     "metadata": {},
     "output_type": "execute_result"
    }
   ],
   "source": [
    "# load corpus as preprocessed set of documents\n",
    "corpus = pd.read_csv('nfcorpus/dev.docs', sep='\\t', names=['ID', 'TEXT'])\n",
    "\n",
    "# corpus preprocessing\n",
    "corpus = preprocess_corpus(corpus)\n",
    "# preview first rows\n",
    "corpus.head()"
   ]
  },
  {
   "cell_type": "code",
   "execution_count": 20,
   "metadata": {},
   "outputs": [
    {
     "data": {
      "text/html": [
       "<div>\n",
       "<style scoped>\n",
       "    .dataframe tbody tr th:only-of-type {\n",
       "        vertical-align: middle;\n",
       "    }\n",
       "\n",
       "    .dataframe tbody tr th {\n",
       "        vertical-align: top;\n",
       "    }\n",
       "\n",
       "    .dataframe thead th {\n",
       "        text-align: right;\n",
       "    }\n",
       "</style>\n",
       "<table border=\"1\" class=\"dataframe\">\n",
       "  <thead>\n",
       "    <tr style=\"text-align: right;\">\n",
       "      <th></th>\n",
       "      <th>ID</th>\n",
       "      <th>TEXT</th>\n",
       "    </tr>\n",
       "  </thead>\n",
       "  <tbody>\n",
       "    <tr>\n",
       "      <th>0</th>\n",
       "      <td>PLAIN-1</td>\n",
       "      <td>deep fri food may caus cancer latest studi die...</td>\n",
       "    </tr>\n",
       "    <tr>\n",
       "      <th>1</th>\n",
       "      <td>PLAIN-1007</td>\n",
       "      <td>ddt persist organ pollut industri toxin pestic...</td>\n",
       "    </tr>\n",
       "    <tr>\n",
       "      <th>2</th>\n",
       "      <td>PLAIN-101</td>\n",
       "      <td>treat multipl sclerosi diet multipl sclerosi u...</td>\n",
       "    </tr>\n",
       "    <tr>\n",
       "      <th>3</th>\n",
       "      <td>PLAIN-1017</td>\n",
       "      <td>detoxif cancer raw food heart health heart dis...</td>\n",
       "    </tr>\n",
       "    <tr>\n",
       "      <th>4</th>\n",
       "      <td>PLAIN-1027</td>\n",
       "      <td>dietari guidelin heart diseas cardiovascular d...</td>\n",
       "    </tr>\n",
       "    <tr>\n",
       "      <th>5</th>\n",
       "      <td>PLAIN-1038</td>\n",
       "      <td>dog meat anim product cat heart health tobacco...</td>\n",
       "    </tr>\n",
       "    <tr>\n",
       "      <th>6</th>\n",
       "      <td>PLAIN-1049</td>\n",
       "      <td>dr heart health heart diseas egg cholesterol s...</td>\n",
       "    </tr>\n",
       "    <tr>\n",
       "      <th>7</th>\n",
       "      <td>PLAIN-1065</td>\n",
       "      <td>dr walter mortal heart diseas heart health die...</td>\n",
       "    </tr>\n",
       "    <tr>\n",
       "      <th>8</th>\n",
       "      <td>PLAIN-1077</td>\n",
       "      <td>thyroid health hijiki sushi iodin sea veget sa...</td>\n",
       "    </tr>\n",
       "    <tr>\n",
       "      <th>9</th>\n",
       "      <td>PLAIN-1087</td>\n",
       "      <td>easter island mortal muscl strength morbid moo...</td>\n",
       "    </tr>\n",
       "  </tbody>\n",
       "</table>\n",
       "</div>"
      ],
      "text/plain": [
       "           ID                                               TEXT\n",
       "0     PLAIN-1  deep fri food may caus cancer latest studi die...\n",
       "1  PLAIN-1007  ddt persist organ pollut industri toxin pestic...\n",
       "2   PLAIN-101  treat multipl sclerosi diet multipl sclerosi u...\n",
       "3  PLAIN-1017  detoxif cancer raw food heart health heart dis...\n",
       "4  PLAIN-1027  dietari guidelin heart diseas cardiovascular d...\n",
       "5  PLAIN-1038  dog meat anim product cat heart health tobacco...\n",
       "6  PLAIN-1049  dr heart health heart diseas egg cholesterol s...\n",
       "7  PLAIN-1065  dr walter mortal heart diseas heart health die...\n",
       "8  PLAIN-1077  thyroid health hijiki sushi iodin sea veget sa...\n",
       "9  PLAIN-1087  easter island mortal muscl strength morbid moo..."
      ]
     },
     "execution_count": 20,
     "metadata": {},
     "output_type": "execute_result"
    }
   ],
   "source": [
    "# load some queries for testing\n",
    "queries_text = pd.read_csv('nfcorpus/dev.all.queries', sep='\\t', names=['ID', 'TEXT'])\n",
    "\n",
    "queries_text = preprocess_queries(corpus, queries_text, output_string = True)\n",
    "queries_text.head(10)"
   ]
  },
  {
   "cell_type": "markdown",
   "metadata": {},
   "source": [
    "# Load Query-Doc Relevance"
   ]
  },
  {
   "cell_type": "code",
   "execution_count": 4,
   "metadata": {},
   "outputs": [
    {
     "data": {
      "text/html": [
       "<div>\n",
       "<style scoped>\n",
       "    .dataframe tbody tr th:only-of-type {\n",
       "        vertical-align: middle;\n",
       "    }\n",
       "\n",
       "    .dataframe tbody tr th {\n",
       "        vertical-align: top;\n",
       "    }\n",
       "\n",
       "    .dataframe thead th {\n",
       "        text-align: right;\n",
       "    }\n",
       "</style>\n",
       "<table border=\"1\" class=\"dataframe\">\n",
       "  <thead>\n",
       "    <tr style=\"text-align: right;\">\n",
       "      <th></th>\n",
       "      <th>QUERY_ID</th>\n",
       "      <th>0</th>\n",
       "      <th>DOC_ID</th>\n",
       "      <th>RELEVANCE_LEVEL</th>\n",
       "    </tr>\n",
       "  </thead>\n",
       "  <tbody>\n",
       "    <tr>\n",
       "      <th>0</th>\n",
       "      <td>PLAIN-1</td>\n",
       "      <td>0</td>\n",
       "      <td>MED-2421</td>\n",
       "      <td>2</td>\n",
       "    </tr>\n",
       "    <tr>\n",
       "      <th>1</th>\n",
       "      <td>PLAIN-1</td>\n",
       "      <td>0</td>\n",
       "      <td>MED-2422</td>\n",
       "      <td>2</td>\n",
       "    </tr>\n",
       "    <tr>\n",
       "      <th>2</th>\n",
       "      <td>PLAIN-1</td>\n",
       "      <td>0</td>\n",
       "      <td>MED-2416</td>\n",
       "      <td>2</td>\n",
       "    </tr>\n",
       "    <tr>\n",
       "      <th>3</th>\n",
       "      <td>PLAIN-1</td>\n",
       "      <td>0</td>\n",
       "      <td>MED-2423</td>\n",
       "      <td>2</td>\n",
       "    </tr>\n",
       "    <tr>\n",
       "      <th>4</th>\n",
       "      <td>PLAIN-1</td>\n",
       "      <td>0</td>\n",
       "      <td>MED-2417</td>\n",
       "      <td>2</td>\n",
       "    </tr>\n",
       "    <tr>\n",
       "      <th>5</th>\n",
       "      <td>PLAIN-1</td>\n",
       "      <td>0</td>\n",
       "      <td>MED-2418</td>\n",
       "      <td>2</td>\n",
       "    </tr>\n",
       "    <tr>\n",
       "      <th>6</th>\n",
       "      <td>PLAIN-1</td>\n",
       "      <td>0</td>\n",
       "      <td>MED-4451</td>\n",
       "      <td>2</td>\n",
       "    </tr>\n",
       "    <tr>\n",
       "      <th>7</th>\n",
       "      <td>PLAIN-1</td>\n",
       "      <td>0</td>\n",
       "      <td>MED-2420</td>\n",
       "      <td>2</td>\n",
       "    </tr>\n",
       "    <tr>\n",
       "      <th>8</th>\n",
       "      <td>PLAIN-1</td>\n",
       "      <td>0</td>\n",
       "      <td>MED-2414</td>\n",
       "      <td>1</td>\n",
       "    </tr>\n",
       "    <tr>\n",
       "      <th>9</th>\n",
       "      <td>PLAIN-1</td>\n",
       "      <td>0</td>\n",
       "      <td>MED-4070</td>\n",
       "      <td>1</td>\n",
       "    </tr>\n",
       "  </tbody>\n",
       "</table>\n",
       "</div>"
      ],
      "text/plain": [
       "  QUERY_ID  0    DOC_ID  RELEVANCE_LEVEL\n",
       "0  PLAIN-1  0  MED-2421                2\n",
       "1  PLAIN-1  0  MED-2422                2\n",
       "2  PLAIN-1  0  MED-2416                2\n",
       "3  PLAIN-1  0  MED-2423                2\n",
       "4  PLAIN-1  0  MED-2417                2\n",
       "5  PLAIN-1  0  MED-2418                2\n",
       "6  PLAIN-1  0  MED-4451                2\n",
       "7  PLAIN-1  0  MED-2420                2\n",
       "8  PLAIN-1  0  MED-2414                1\n",
       "9  PLAIN-1  0  MED-4070                1"
      ]
     },
     "execution_count": 4,
     "metadata": {},
     "output_type": "execute_result"
    }
   ],
   "source": [
    "#upload the query relevance\n",
    "queries_relevance = pd.read_csv('nfcorpus/dev.2-1-0.qrel', sep='\\t', names=['QUERY_ID', '0', 'DOC_ID', 'RELEVANCE_LEVEL'])\n",
    "queries_relevance.head(10)"
   ]
  },
  {
   "cell_type": "markdown",
   "metadata": {},
   "source": [
    "##  Create TF-IDF matrix for documents"
   ]
  },
  {
   "cell_type": "code",
   "execution_count": 5,
   "metadata": {},
   "outputs": [
    {
     "data": {
      "text/html": [
       "<div>\n",
       "<style scoped>\n",
       "    .dataframe tbody tr th:only-of-type {\n",
       "        vertical-align: middle;\n",
       "    }\n",
       "\n",
       "    .dataframe tbody tr th {\n",
       "        vertical-align: top;\n",
       "    }\n",
       "\n",
       "    .dataframe thead th {\n",
       "        text-align: right;\n",
       "    }\n",
       "</style>\n",
       "<table border=\"1\" class=\"dataframe\">\n",
       "  <thead>\n",
       "    <tr style=\"text-align: right;\">\n",
       "      <th></th>\n",
       "      <th>alkylphenol</th>\n",
       "      <th>human</th>\n",
       "      <th>milk</th>\n",
       "      <th>relat</th>\n",
       "      <th>dietari</th>\n",
       "      <th>habit</th>\n",
       "      <th>central</th>\n",
       "      <th>taiwan</th>\n",
       "      <th>pubm</th>\n",
       "      <th>ncbi</th>\n",
       "      <th>...</th>\n",
       "      <th>six-year</th>\n",
       "      <th>inchianti</th>\n",
       "      <th>tuscani</th>\n",
       "      <th>studies-depress</th>\n",
       "      <th>eurosav</th>\n",
       "      <th>self-inflict</th>\n",
       "      <th>eurostat</th>\n",
       "      <th>suicide-record</th>\n",
       "      <th>scarciti</th>\n",
       "      <th>trim-and-fil</th>\n",
       "    </tr>\n",
       "  </thead>\n",
       "  <tbody>\n",
       "    <tr>\n",
       "      <th>0</th>\n",
       "      <td>6.122806</td>\n",
       "      <td>2.886416</td>\n",
       "      <td>6.547579</td>\n",
       "      <td>2.90854</td>\n",
       "      <td>2.095849</td>\n",
       "      <td>5.898499</td>\n",
       "      <td>3.473596</td>\n",
       "      <td>5.503767</td>\n",
       "      <td>0.266507</td>\n",
       "      <td>0.27307</td>\n",
       "      <td>...</td>\n",
       "      <td>0.0</td>\n",
       "      <td>0.0</td>\n",
       "      <td>0.0</td>\n",
       "      <td>0.0</td>\n",
       "      <td>0.0</td>\n",
       "      <td>0.0</td>\n",
       "      <td>0.0</td>\n",
       "      <td>0.0</td>\n",
       "      <td>0.0</td>\n",
       "      <td>0.0</td>\n",
       "    </tr>\n",
       "    <tr>\n",
       "      <th>1</th>\n",
       "      <td>0.000000</td>\n",
       "      <td>0.000000</td>\n",
       "      <td>0.000000</td>\n",
       "      <td>0.00000</td>\n",
       "      <td>0.000000</td>\n",
       "      <td>0.000000</td>\n",
       "      <td>0.000000</td>\n",
       "      <td>0.000000</td>\n",
       "      <td>0.266507</td>\n",
       "      <td>0.27307</td>\n",
       "      <td>...</td>\n",
       "      <td>0.0</td>\n",
       "      <td>0.0</td>\n",
       "      <td>0.0</td>\n",
       "      <td>0.0</td>\n",
       "      <td>0.0</td>\n",
       "      <td>0.0</td>\n",
       "      <td>0.0</td>\n",
       "      <td>0.0</td>\n",
       "      <td>0.0</td>\n",
       "      <td>0.0</td>\n",
       "    </tr>\n",
       "    <tr>\n",
       "      <th>2</th>\n",
       "      <td>0.000000</td>\n",
       "      <td>0.000000</td>\n",
       "      <td>0.000000</td>\n",
       "      <td>0.00000</td>\n",
       "      <td>2.597750</td>\n",
       "      <td>0.000000</td>\n",
       "      <td>0.000000</td>\n",
       "      <td>0.000000</td>\n",
       "      <td>0.000000</td>\n",
       "      <td>0.00000</td>\n",
       "      <td>...</td>\n",
       "      <td>0.0</td>\n",
       "      <td>0.0</td>\n",
       "      <td>0.0</td>\n",
       "      <td>0.0</td>\n",
       "      <td>0.0</td>\n",
       "      <td>0.0</td>\n",
       "      <td>0.0</td>\n",
       "      <td>0.0</td>\n",
       "      <td>0.0</td>\n",
       "      <td>0.0</td>\n",
       "    </tr>\n",
       "    <tr>\n",
       "      <th>3</th>\n",
       "      <td>0.000000</td>\n",
       "      <td>0.000000</td>\n",
       "      <td>0.000000</td>\n",
       "      <td>0.00000</td>\n",
       "      <td>2.597750</td>\n",
       "      <td>0.000000</td>\n",
       "      <td>0.000000</td>\n",
       "      <td>0.000000</td>\n",
       "      <td>0.266507</td>\n",
       "      <td>0.27307</td>\n",
       "      <td>...</td>\n",
       "      <td>0.0</td>\n",
       "      <td>0.0</td>\n",
       "      <td>0.0</td>\n",
       "      <td>0.0</td>\n",
       "      <td>0.0</td>\n",
       "      <td>0.0</td>\n",
       "      <td>0.0</td>\n",
       "      <td>0.0</td>\n",
       "      <td>0.0</td>\n",
       "      <td>0.0</td>\n",
       "    </tr>\n",
       "    <tr>\n",
       "      <th>4</th>\n",
       "      <td>0.000000</td>\n",
       "      <td>0.000000</td>\n",
       "      <td>0.000000</td>\n",
       "      <td>0.00000</td>\n",
       "      <td>0.000000</td>\n",
       "      <td>0.000000</td>\n",
       "      <td>0.000000</td>\n",
       "      <td>0.000000</td>\n",
       "      <td>0.266507</td>\n",
       "      <td>0.27307</td>\n",
       "      <td>...</td>\n",
       "      <td>0.0</td>\n",
       "      <td>0.0</td>\n",
       "      <td>0.0</td>\n",
       "      <td>0.0</td>\n",
       "      <td>0.0</td>\n",
       "      <td>0.0</td>\n",
       "      <td>0.0</td>\n",
       "      <td>0.0</td>\n",
       "      <td>0.0</td>\n",
       "      <td>0.0</td>\n",
       "    </tr>\n",
       "  </tbody>\n",
       "</table>\n",
       "<p>5 rows × 19930 columns</p>\n",
       "</div>"
      ],
      "text/plain": [
       "   alkylphenol     human      milk    relat   dietari     habit   central  \\\n",
       "0     6.122806  2.886416  6.547579  2.90854  2.095849  5.898499  3.473596   \n",
       "1     0.000000  0.000000  0.000000  0.00000  0.000000  0.000000  0.000000   \n",
       "2     0.000000  0.000000  0.000000  0.00000  2.597750  0.000000  0.000000   \n",
       "3     0.000000  0.000000  0.000000  0.00000  2.597750  0.000000  0.000000   \n",
       "4     0.000000  0.000000  0.000000  0.00000  0.000000  0.000000  0.000000   \n",
       "\n",
       "     taiwan      pubm     ncbi  ...  six-year  inchianti  tuscani  \\\n",
       "0  5.503767  0.266507  0.27307  ...       0.0        0.0      0.0   \n",
       "1  0.000000  0.266507  0.27307  ...       0.0        0.0      0.0   \n",
       "2  0.000000  0.000000  0.00000  ...       0.0        0.0      0.0   \n",
       "3  0.000000  0.266507  0.27307  ...       0.0        0.0      0.0   \n",
       "4  0.000000  0.266507  0.27307  ...       0.0        0.0      0.0   \n",
       "\n",
       "   studies-depress  eurosav  self-inflict  eurostat  suicide-record  scarciti  \\\n",
       "0              0.0      0.0           0.0       0.0             0.0       0.0   \n",
       "1              0.0      0.0           0.0       0.0             0.0       0.0   \n",
       "2              0.0      0.0           0.0       0.0             0.0       0.0   \n",
       "3              0.0      0.0           0.0       0.0             0.0       0.0   \n",
       "4              0.0      0.0           0.0       0.0             0.0       0.0   \n",
       "\n",
       "   trim-and-fil  \n",
       "0           0.0  \n",
       "1           0.0  \n",
       "2           0.0  \n",
       "3           0.0  \n",
       "4           0.0  \n",
       "\n",
       "[5 rows x 19930 columns]"
      ]
     },
     "execution_count": 5,
     "metadata": {},
     "output_type": "execute_result"
    }
   ],
   "source": [
    "#create TF-IDF matrix of corpus\n",
    "tf_dict = tf(corpus, column_name = 'TEXT')\n",
    "idf_dict = idf(corpus, tf_dict)\n",
    "tf_idf_dict = tf_idf(tf_dict, idf_dict)\n",
    "tf_idf_matrix = tf_idf_to_matrix(tf_idf_dict)\n",
    "tf_idf_matrix.head()"
   ]
  },
  {
   "cell_type": "markdown",
   "metadata": {},
   "source": [
    "# Create TF-IDF matrix for queries"
   ]
  },
  {
   "cell_type": "code",
   "execution_count": 6,
   "metadata": {},
   "outputs": [
    {
     "name": "stderr",
     "output_type": "stream",
     "text": [
      "functions_helper.py:197: RuntimeWarning: divide by zero encountered in log\n",
      "  for col in tf_idf_queries.columns:\n"
     ]
    },
    {
     "data": {
      "text/html": [
       "<div>\n",
       "<style scoped>\n",
       "    .dataframe tbody tr th:only-of-type {\n",
       "        vertical-align: middle;\n",
       "    }\n",
       "\n",
       "    .dataframe tbody tr th {\n",
       "        vertical-align: top;\n",
       "    }\n",
       "\n",
       "    .dataframe thead th {\n",
       "        text-align: right;\n",
       "    }\n",
       "</style>\n",
       "<table border=\"1\" class=\"dataframe\">\n",
       "  <thead>\n",
       "    <tr style=\"text-align: right;\">\n",
       "      <th></th>\n",
       "      <th>alkylphenol</th>\n",
       "      <th>human</th>\n",
       "      <th>milk</th>\n",
       "      <th>relat</th>\n",
       "      <th>dietari</th>\n",
       "      <th>habit</th>\n",
       "      <th>central</th>\n",
       "      <th>taiwan</th>\n",
       "      <th>pubm</th>\n",
       "      <th>ncbi</th>\n",
       "      <th>...</th>\n",
       "      <th>six-year</th>\n",
       "      <th>inchianti</th>\n",
       "      <th>tuscani</th>\n",
       "      <th>studies-depress</th>\n",
       "      <th>eurosav</th>\n",
       "      <th>self-inflict</th>\n",
       "      <th>eurostat</th>\n",
       "      <th>suicide-record</th>\n",
       "      <th>scarciti</th>\n",
       "      <th>trim-and-fil</th>\n",
       "    </tr>\n",
       "  </thead>\n",
       "  <tbody>\n",
       "    <tr>\n",
       "      <th>0</th>\n",
       "      <td>0.0</td>\n",
       "      <td>1.375393</td>\n",
       "      <td>0.000000</td>\n",
       "      <td>0.000000</td>\n",
       "      <td>4.206057</td>\n",
       "      <td>0.0</td>\n",
       "      <td>0.000000</td>\n",
       "      <td>0.0</td>\n",
       "      <td>0.451235</td>\n",
       "      <td>0.0</td>\n",
       "      <td>...</td>\n",
       "      <td>0.0</td>\n",
       "      <td>0.0</td>\n",
       "      <td>0.0</td>\n",
       "      <td>0.0</td>\n",
       "      <td>0.0</td>\n",
       "      <td>0.0</td>\n",
       "      <td>0.0</td>\n",
       "      <td>0.0</td>\n",
       "      <td>0.0</td>\n",
       "      <td>0.0</td>\n",
       "    </tr>\n",
       "    <tr>\n",
       "      <th>1</th>\n",
       "      <td>0.0</td>\n",
       "      <td>0.000000</td>\n",
       "      <td>3.119956</td>\n",
       "      <td>0.000000</td>\n",
       "      <td>0.000000</td>\n",
       "      <td>0.0</td>\n",
       "      <td>0.000000</td>\n",
       "      <td>0.0</td>\n",
       "      <td>0.000000</td>\n",
       "      <td>0.0</td>\n",
       "      <td>...</td>\n",
       "      <td>0.0</td>\n",
       "      <td>0.0</td>\n",
       "      <td>0.0</td>\n",
       "      <td>0.0</td>\n",
       "      <td>0.0</td>\n",
       "      <td>0.0</td>\n",
       "      <td>0.0</td>\n",
       "      <td>0.0</td>\n",
       "      <td>0.0</td>\n",
       "      <td>0.0</td>\n",
       "    </tr>\n",
       "    <tr>\n",
       "      <th>2</th>\n",
       "      <td>0.0</td>\n",
       "      <td>3.589001</td>\n",
       "      <td>5.282545</td>\n",
       "      <td>4.099249</td>\n",
       "      <td>3.455757</td>\n",
       "      <td>0.0</td>\n",
       "      <td>3.473596</td>\n",
       "      <td>0.0</td>\n",
       "      <td>0.451235</td>\n",
       "      <td>0.0</td>\n",
       "      <td>...</td>\n",
       "      <td>0.0</td>\n",
       "      <td>0.0</td>\n",
       "      <td>0.0</td>\n",
       "      <td>0.0</td>\n",
       "      <td>0.0</td>\n",
       "      <td>0.0</td>\n",
       "      <td>0.0</td>\n",
       "      <td>0.0</td>\n",
       "      <td>0.0</td>\n",
       "      <td>0.0</td>\n",
       "    </tr>\n",
       "    <tr>\n",
       "      <th>3</th>\n",
       "      <td>0.0</td>\n",
       "      <td>0.000000</td>\n",
       "      <td>0.000000</td>\n",
       "      <td>0.000000</td>\n",
       "      <td>0.000000</td>\n",
       "      <td>0.0</td>\n",
       "      <td>0.000000</td>\n",
       "      <td>0.0</td>\n",
       "      <td>0.000000</td>\n",
       "      <td>0.0</td>\n",
       "      <td>...</td>\n",
       "      <td>0.0</td>\n",
       "      <td>0.0</td>\n",
       "      <td>0.0</td>\n",
       "      <td>0.0</td>\n",
       "      <td>0.0</td>\n",
       "      <td>0.0</td>\n",
       "      <td>0.0</td>\n",
       "      <td>0.0</td>\n",
       "      <td>0.0</td>\n",
       "      <td>0.0</td>\n",
       "    </tr>\n",
       "    <tr>\n",
       "      <th>4</th>\n",
       "      <td>0.0</td>\n",
       "      <td>0.000000</td>\n",
       "      <td>0.000000</td>\n",
       "      <td>0.000000</td>\n",
       "      <td>1.237842</td>\n",
       "      <td>0.0</td>\n",
       "      <td>0.000000</td>\n",
       "      <td>0.0</td>\n",
       "      <td>0.000000</td>\n",
       "      <td>0.0</td>\n",
       "      <td>...</td>\n",
       "      <td>0.0</td>\n",
       "      <td>0.0</td>\n",
       "      <td>0.0</td>\n",
       "      <td>0.0</td>\n",
       "      <td>0.0</td>\n",
       "      <td>0.0</td>\n",
       "      <td>0.0</td>\n",
       "      <td>0.0</td>\n",
       "      <td>0.0</td>\n",
       "      <td>0.0</td>\n",
       "    </tr>\n",
       "  </tbody>\n",
       "</table>\n",
       "<p>5 rows × 19930 columns</p>\n",
       "</div>"
      ],
      "text/plain": [
       "   alkylphenol     human      milk     relat   dietari  habit   central  \\\n",
       "0          0.0  1.375393  0.000000  0.000000  4.206057    0.0  0.000000   \n",
       "1          0.0  0.000000  3.119956  0.000000  0.000000    0.0  0.000000   \n",
       "2          0.0  3.589001  5.282545  4.099249  3.455757    0.0  3.473596   \n",
       "3          0.0  0.000000  0.000000  0.000000  0.000000    0.0  0.000000   \n",
       "4          0.0  0.000000  0.000000  0.000000  1.237842    0.0  0.000000   \n",
       "\n",
       "   taiwan      pubm  ncbi  ...  six-year  inchianti  tuscani  studies-depress  \\\n",
       "0     0.0  0.451235   0.0  ...       0.0        0.0      0.0              0.0   \n",
       "1     0.0  0.000000   0.0  ...       0.0        0.0      0.0              0.0   \n",
       "2     0.0  0.451235   0.0  ...       0.0        0.0      0.0              0.0   \n",
       "3     0.0  0.000000   0.0  ...       0.0        0.0      0.0              0.0   \n",
       "4     0.0  0.000000   0.0  ...       0.0        0.0      0.0              0.0   \n",
       "\n",
       "   eurosav  self-inflict  eurostat  suicide-record  scarciti  trim-and-fil  \n",
       "0      0.0           0.0       0.0             0.0       0.0           0.0  \n",
       "1      0.0           0.0       0.0             0.0       0.0           0.0  \n",
       "2      0.0           0.0       0.0             0.0       0.0           0.0  \n",
       "3      0.0           0.0       0.0             0.0       0.0           0.0  \n",
       "4      0.0           0.0       0.0             0.0       0.0           0.0  \n",
       "\n",
       "[5 rows x 19930 columns]"
      ]
     },
     "execution_count": 6,
     "metadata": {},
     "output_type": "execute_result"
    }
   ],
   "source": [
    "tf_idf_queries = queries_tf_idf(tf_idf_matrix, idf_dict, queries_text)\n",
    "tf_idf_queries.head()"
   ]
  },
  {
   "cell_type": "markdown",
   "metadata": {},
   "source": [
    "# Create vectors"
   ]
  },
  {
   "cell_type": "code",
   "execution_count": 7,
   "metadata": {},
   "outputs": [
    {
     "data": {
      "text/html": [
       "<div>\n",
       "<style scoped>\n",
       "    .dataframe tbody tr th:only-of-type {\n",
       "        vertical-align: middle;\n",
       "    }\n",
       "\n",
       "    .dataframe tbody tr th {\n",
       "        vertical-align: top;\n",
       "    }\n",
       "\n",
       "    .dataframe thead th {\n",
       "        text-align: right;\n",
       "    }\n",
       "</style>\n",
       "<table border=\"1\" class=\"dataframe\">\n",
       "  <thead>\n",
       "    <tr style=\"text-align: right;\">\n",
       "      <th></th>\n",
       "      <th>ID</th>\n",
       "      <th>TEXT</th>\n",
       "    </tr>\n",
       "  </thead>\n",
       "  <tbody>\n",
       "    <tr>\n",
       "      <th>1142</th>\n",
       "      <td>MED-2423</td>\n",
       "      <td>dietari pattern breast cancer risk women pubm ...</td>\n",
       "    </tr>\n",
       "    <tr>\n",
       "      <th>1138</th>\n",
       "      <td>MED-2418</td>\n",
       "      <td>consumpt deep-fri food risk prostat cancera b ...</td>\n",
       "    </tr>\n",
       "    <tr>\n",
       "      <th>956</th>\n",
       "      <td>MED-2195</td>\n",
       "      <td>influenc deep fri veget oil acrylamid format s...</td>\n",
       "    </tr>\n",
       "    <tr>\n",
       "      <th>1794</th>\n",
       "      <td>MED-3498</td>\n",
       "      <td>dietari acrylamid exposur french popul result ...</td>\n",
       "    </tr>\n",
       "    <tr>\n",
       "      <th>1141</th>\n",
       "      <td>MED-2422</td>\n",
       "      <td>statist regress model estim acrylamid concentr...</td>\n",
       "    </tr>\n",
       "  </tbody>\n",
       "</table>\n",
       "</div>"
      ],
      "text/plain": [
       "            ID                                               TEXT\n",
       "1142  MED-2423  dietari pattern breast cancer risk women pubm ...\n",
       "1138  MED-2418  consumpt deep-fri food risk prostat cancera b ...\n",
       "956   MED-2195  influenc deep fri veget oil acrylamid format s...\n",
       "1794  MED-3498  dietari acrylamid exposur french popul result ...\n",
       "1141  MED-2422  statist regress model estim acrylamid concentr..."
      ]
     },
     "execution_count": 7,
     "metadata": {},
     "output_type": "execute_result"
    }
   ],
   "source": [
    "#create variables for document and query vectors\n",
    "doc_vectors = tf_idf_matrix.values\n",
    "q_vectors = tf_idf_queries.values\n",
    "#test the basic retrieve\n",
    "retrieve(0, q_vectors, doc_vectors, k=5)"
   ]
  },
  {
   "cell_type": "markdown",
   "metadata": {},
   "source": [
    "# Run basic retrieve"
   ]
  },
  {
   "cell_type": "code",
   "execution_count": 18,
   "metadata": {},
   "outputs": [
    {
     "name": "stdout",
     "output_type": "stream",
     "text": [
      "Average precision across all queries = 0.3940000000000002\n",
      "Mean Average Precision = 0.26045641025641053\n",
      "Average nDCG = 0.3359780305894626\n",
      "495.42166328430176\n"
     ]
    }
   ],
   "source": [
    "start = time.time()\n",
    "vanilla_evaluation = full_evaluation(q_vectors, doc_vectors, k=5)\n",
    "end = time.time() - start\n",
    "print(end)"
   ]
  },
  {
   "cell_type": "code",
   "execution_count": 19,
   "metadata": {},
   "outputs": [
    {
     "data": {
      "text/html": [
       "<div>\n",
       "<style scoped>\n",
       "    .dataframe tbody tr th:only-of-type {\n",
       "        vertical-align: middle;\n",
       "    }\n",
       "\n",
       "    .dataframe tbody tr th {\n",
       "        vertical-align: top;\n",
       "    }\n",
       "\n",
       "    .dataframe thead th {\n",
       "        text-align: right;\n",
       "    }\n",
       "</style>\n",
       "<table border=\"1\" class=\"dataframe\">\n",
       "  <thead>\n",
       "    <tr style=\"text-align: right;\">\n",
       "      <th></th>\n",
       "      <th>ID</th>\n",
       "      <th>TEXT</th>\n",
       "      <th>Precision</th>\n",
       "      <th>Average Precision</th>\n",
       "      <th>nDCG</th>\n",
       "    </tr>\n",
       "  </thead>\n",
       "  <tbody>\n",
       "    <tr>\n",
       "      <th>0</th>\n",
       "      <td>PLAIN-1</td>\n",
       "      <td>deep fri food may caus cancer latest studi die...</td>\n",
       "      <td>0.8</td>\n",
       "      <td>0.543333</td>\n",
       "      <td>0.595237</td>\n",
       "    </tr>\n",
       "    <tr>\n",
       "      <th>1</th>\n",
       "      <td>PLAIN-1007</td>\n",
       "      <td>ddt persist organ pollut industri toxin pestic...</td>\n",
       "      <td>0.2</td>\n",
       "      <td>0.040000</td>\n",
       "      <td>0.131205</td>\n",
       "    </tr>\n",
       "    <tr>\n",
       "      <th>2</th>\n",
       "      <td>PLAIN-101</td>\n",
       "      <td>treat multipl sclerosi diet multipl sclerosi u...</td>\n",
       "      <td>0.4</td>\n",
       "      <td>0.233333</td>\n",
       "      <td>0.298776</td>\n",
       "    </tr>\n",
       "    <tr>\n",
       "      <th>3</th>\n",
       "      <td>PLAIN-1017</td>\n",
       "      <td>detoxif cancer raw food heart health heart dis...</td>\n",
       "      <td>0.0</td>\n",
       "      <td>0.000000</td>\n",
       "      <td>0.000000</td>\n",
       "    </tr>\n",
       "    <tr>\n",
       "      <th>4</th>\n",
       "      <td>PLAIN-1027</td>\n",
       "      <td>dietari guidelin heart diseas cardiovascular d...</td>\n",
       "      <td>0.0</td>\n",
       "      <td>0.000000</td>\n",
       "      <td>0.000000</td>\n",
       "    </tr>\n",
       "  </tbody>\n",
       "</table>\n",
       "</div>"
      ],
      "text/plain": [
       "           ID                                               TEXT  Precision  \\\n",
       "0     PLAIN-1  deep fri food may caus cancer latest studi die...        0.8   \n",
       "1  PLAIN-1007  ddt persist organ pollut industri toxin pestic...        0.2   \n",
       "2   PLAIN-101  treat multipl sclerosi diet multipl sclerosi u...        0.4   \n",
       "3  PLAIN-1017  detoxif cancer raw food heart health heart dis...        0.0   \n",
       "4  PLAIN-1027  dietari guidelin heart diseas cardiovascular d...        0.0   \n",
       "\n",
       "   Average Precision      nDCG  \n",
       "0           0.543333  0.595237  \n",
       "1           0.040000  0.131205  \n",
       "2           0.233333  0.298776  \n",
       "3           0.000000  0.000000  \n",
       "4           0.000000  0.000000  "
      ]
     },
     "execution_count": 19,
     "metadata": {},
     "output_type": "execute_result"
    }
   ],
   "source": [
    "vanilla_evaluation.head()"
   ]
  },
  {
   "cell_type": "markdown",
   "metadata": {},
   "source": [
    "# Basic pre-clustering"
   ]
  },
  {
   "cell_type": "markdown",
   "metadata": {},
   "source": [
    "## Random state = 11"
   ]
  },
  {
   "cell_type": "code",
   "execution_count": 24,
   "metadata": {},
   "outputs": [],
   "source": [
    "no_of_docs = len(corpus.index)\n",
    "sqrt_n = round(math.sqrt(no_of_docs))"
   ]
  },
  {
   "cell_type": "code",
   "execution_count": 25,
   "metadata": {},
   "outputs": [
    {
     "name": "stdout",
     "output_type": "stream",
     "text": [
      "Average precision across all queries = 0.18907692307692314\n",
      "Mean Average Precision = 0.11784957264957267\n",
      "Average nDCG = 0.15597203856880254\n",
      "Evaluation execution time, sec = 35.34845590591431\n"
     ]
    }
   ],
   "source": [
    "leaders, cluster_list = allocate_docs_to_clusters(11, sqrt_n, cosine = True)\n",
    "start = time.time()\n",
    "evaluate_with_leaders_state_11 = evaluate_preclustering()\n",
    "print(\"Evaluation execution time, sec = \" + str(time.time()-start))"
   ]
  },
  {
   "cell_type": "code",
   "execution_count": 26,
   "metadata": {},
   "outputs": [
    {
     "data": {
      "text/html": [
       "<div>\n",
       "<style scoped>\n",
       "    .dataframe tbody tr th:only-of-type {\n",
       "        vertical-align: middle;\n",
       "    }\n",
       "\n",
       "    .dataframe tbody tr th {\n",
       "        vertical-align: top;\n",
       "    }\n",
       "\n",
       "    .dataframe thead th {\n",
       "        text-align: right;\n",
       "    }\n",
       "</style>\n",
       "<table border=\"1\" class=\"dataframe\">\n",
       "  <thead>\n",
       "    <tr style=\"text-align: right;\">\n",
       "      <th></th>\n",
       "      <th>ID</th>\n",
       "      <th>TEXT</th>\n",
       "      <th>Precision</th>\n",
       "      <th>Average Precision</th>\n",
       "      <th>nDCG</th>\n",
       "    </tr>\n",
       "  </thead>\n",
       "  <tbody>\n",
       "    <tr>\n",
       "      <th>0</th>\n",
       "      <td>PLAIN-1</td>\n",
       "      <td>deep fri food may caus cancer latest studi die...</td>\n",
       "      <td>0.20</td>\n",
       "      <td>0.040000</td>\n",
       "      <td>0.131205</td>\n",
       "    </tr>\n",
       "    <tr>\n",
       "      <th>1</th>\n",
       "      <td>PLAIN-1007</td>\n",
       "      <td>ddt persist organ pollut industri toxin pestic...</td>\n",
       "      <td>0.40</td>\n",
       "      <td>0.130000</td>\n",
       "      <td>0.277273</td>\n",
       "    </tr>\n",
       "    <tr>\n",
       "      <th>2</th>\n",
       "      <td>PLAIN-101</td>\n",
       "      <td>treat multipl sclerosi diet multipl sclerosi u...</td>\n",
       "      <td>0.00</td>\n",
       "      <td>0.000000</td>\n",
       "      <td>0.000000</td>\n",
       "    </tr>\n",
       "    <tr>\n",
       "      <th>3</th>\n",
       "      <td>PLAIN-1017</td>\n",
       "      <td>detoxif cancer raw food heart health heart dis...</td>\n",
       "      <td>0.00</td>\n",
       "      <td>0.000000</td>\n",
       "      <td>0.000000</td>\n",
       "    </tr>\n",
       "    <tr>\n",
       "      <th>4</th>\n",
       "      <td>PLAIN-1027</td>\n",
       "      <td>dietari guidelin heart diseas cardiovascular d...</td>\n",
       "      <td>0.40</td>\n",
       "      <td>0.200000</td>\n",
       "      <td>0.360055</td>\n",
       "    </tr>\n",
       "    <tr>\n",
       "      <th>5</th>\n",
       "      <td>PLAIN-1038</td>\n",
       "      <td>dog meat anim product cat heart health tobacco...</td>\n",
       "      <td>0.00</td>\n",
       "      <td>0.000000</td>\n",
       "      <td>0.000000</td>\n",
       "    </tr>\n",
       "    <tr>\n",
       "      <th>6</th>\n",
       "      <td>PLAIN-1049</td>\n",
       "      <td>dr heart health heart diseas egg cholesterol s...</td>\n",
       "      <td>0.20</td>\n",
       "      <td>0.066667</td>\n",
       "      <td>0.181542</td>\n",
       "    </tr>\n",
       "    <tr>\n",
       "      <th>7</th>\n",
       "      <td>PLAIN-1065</td>\n",
       "      <td>dr walter mortal heart diseas heart health die...</td>\n",
       "      <td>0.00</td>\n",
       "      <td>0.000000</td>\n",
       "      <td>0.000000</td>\n",
       "    </tr>\n",
       "    <tr>\n",
       "      <th>8</th>\n",
       "      <td>PLAIN-1077</td>\n",
       "      <td>thyroid health hijiki sushi iodin sea veget sa...</td>\n",
       "      <td>0.75</td>\n",
       "      <td>0.550000</td>\n",
       "      <td>0.699215</td>\n",
       "    </tr>\n",
       "    <tr>\n",
       "      <th>9</th>\n",
       "      <td>PLAIN-1087</td>\n",
       "      <td>easter island mortal muscl strength morbid moo...</td>\n",
       "      <td>0.00</td>\n",
       "      <td>0.000000</td>\n",
       "      <td>0.000000</td>\n",
       "    </tr>\n",
       "  </tbody>\n",
       "</table>\n",
       "</div>"
      ],
      "text/plain": [
       "           ID                                               TEXT  Precision  \\\n",
       "0     PLAIN-1  deep fri food may caus cancer latest studi die...       0.20   \n",
       "1  PLAIN-1007  ddt persist organ pollut industri toxin pestic...       0.40   \n",
       "2   PLAIN-101  treat multipl sclerosi diet multipl sclerosi u...       0.00   \n",
       "3  PLAIN-1017  detoxif cancer raw food heart health heart dis...       0.00   \n",
       "4  PLAIN-1027  dietari guidelin heart diseas cardiovascular d...       0.40   \n",
       "5  PLAIN-1038  dog meat anim product cat heart health tobacco...       0.00   \n",
       "6  PLAIN-1049  dr heart health heart diseas egg cholesterol s...       0.20   \n",
       "7  PLAIN-1065  dr walter mortal heart diseas heart health die...       0.00   \n",
       "8  PLAIN-1077  thyroid health hijiki sushi iodin sea veget sa...       0.75   \n",
       "9  PLAIN-1087  easter island mortal muscl strength morbid moo...       0.00   \n",
       "\n",
       "   Average Precision      nDCG  \n",
       "0           0.040000  0.131205  \n",
       "1           0.130000  0.277273  \n",
       "2           0.000000  0.000000  \n",
       "3           0.000000  0.000000  \n",
       "4           0.200000  0.360055  \n",
       "5           0.000000  0.000000  \n",
       "6           0.066667  0.181542  \n",
       "7           0.000000  0.000000  \n",
       "8           0.550000  0.699215  \n",
       "9           0.000000  0.000000  "
      ]
     },
     "execution_count": 26,
     "metadata": {},
     "output_type": "execute_result"
    }
   ],
   "source": [
    "evaluate_with_leaders_state_11.head(10)"
   ]
  },
  {
   "cell_type": "code",
   "execution_count": 29,
   "metadata": {},
   "outputs": [
    {
     "data": {
      "text/html": [
       "<div>\n",
       "<style scoped>\n",
       "    .dataframe tbody tr th:only-of-type {\n",
       "        vertical-align: middle;\n",
       "    }\n",
       "\n",
       "    .dataframe tbody tr th {\n",
       "        vertical-align: top;\n",
       "    }\n",
       "\n",
       "    .dataframe thead th {\n",
       "        text-align: right;\n",
       "    }\n",
       "</style>\n",
       "<table border=\"1\" class=\"dataframe\">\n",
       "  <thead>\n",
       "    <tr style=\"text-align: right;\">\n",
       "      <th></th>\n",
       "      <th>Precision</th>\n",
       "      <th>Average Precision</th>\n",
       "      <th>nDCG</th>\n",
       "    </tr>\n",
       "  </thead>\n",
       "  <tbody>\n",
       "    <tr>\n",
       "      <th>count</th>\n",
       "      <td>325.000000</td>\n",
       "      <td>325.000000</td>\n",
       "      <td>325.000000</td>\n",
       "    </tr>\n",
       "    <tr>\n",
       "      <th>mean</th>\n",
       "      <td>0.189077</td>\n",
       "      <td>0.117850</td>\n",
       "      <td>0.155972</td>\n",
       "    </tr>\n",
       "    <tr>\n",
       "      <th>std</th>\n",
       "      <td>0.286094</td>\n",
       "      <td>0.232718</td>\n",
       "      <td>0.252240</td>\n",
       "    </tr>\n",
       "    <tr>\n",
       "      <th>min</th>\n",
       "      <td>0.000000</td>\n",
       "      <td>0.000000</td>\n",
       "      <td>0.000000</td>\n",
       "    </tr>\n",
       "    <tr>\n",
       "      <th>25%</th>\n",
       "      <td>0.000000</td>\n",
       "      <td>0.000000</td>\n",
       "      <td>0.000000</td>\n",
       "    </tr>\n",
       "    <tr>\n",
       "      <th>50%</th>\n",
       "      <td>0.000000</td>\n",
       "      <td>0.000000</td>\n",
       "      <td>0.000000</td>\n",
       "    </tr>\n",
       "    <tr>\n",
       "      <th>75%</th>\n",
       "      <td>0.250000</td>\n",
       "      <td>0.100000</td>\n",
       "      <td>0.213986</td>\n",
       "    </tr>\n",
       "    <tr>\n",
       "      <th>max</th>\n",
       "      <td>1.000000</td>\n",
       "      <td>1.000000</td>\n",
       "      <td>1.000000</td>\n",
       "    </tr>\n",
       "  </tbody>\n",
       "</table>\n",
       "</div>"
      ],
      "text/plain": [
       "        Precision  Average Precision        nDCG\n",
       "count  325.000000         325.000000  325.000000\n",
       "mean     0.189077           0.117850    0.155972\n",
       "std      0.286094           0.232718    0.252240\n",
       "min      0.000000           0.000000    0.000000\n",
       "25%      0.000000           0.000000    0.000000\n",
       "50%      0.000000           0.000000    0.000000\n",
       "75%      0.250000           0.100000    0.213986\n",
       "max      1.000000           1.000000    1.000000"
      ]
     },
     "execution_count": 29,
     "metadata": {},
     "output_type": "execute_result"
    }
   ],
   "source": [
    "evaluate_with_leaders_state_11.describe()"
   ]
  },
  {
   "cell_type": "markdown",
   "metadata": {},
   "source": [
    "## Random state = 110 "
   ]
  },
  {
   "cell_type": "code",
   "execution_count": 30,
   "metadata": {},
   "outputs": [
    {
     "name": "stdout",
     "output_type": "stream",
     "text": [
      "Average precision across all queries = 0.18994871794871807\n",
      "Mean Average Precision = 0.11945641025641023\n",
      "Average nDCG = 0.15664189919470173\n",
      "Evaluation execution time, sec = 36.15230631828308\n"
     ]
    }
   ],
   "source": [
    "leaders, cluster_list = allocate_docs_to_clusters(110, sqrt_n, cosine = True, Faiss = False)\n",
    "start = time.time()\n",
    "evaluate_with_leaders_state_110 = evaluate_preclustering()\n",
    "print(\"Evaluation execution time, sec = \" + str(time.time()-start))"
   ]
  },
  {
   "cell_type": "code",
   "execution_count": 31,
   "metadata": {},
   "outputs": [
    {
     "data": {
      "text/html": [
       "<div>\n",
       "<style scoped>\n",
       "    .dataframe tbody tr th:only-of-type {\n",
       "        vertical-align: middle;\n",
       "    }\n",
       "\n",
       "    .dataframe tbody tr th {\n",
       "        vertical-align: top;\n",
       "    }\n",
       "\n",
       "    .dataframe thead th {\n",
       "        text-align: right;\n",
       "    }\n",
       "</style>\n",
       "<table border=\"1\" class=\"dataframe\">\n",
       "  <thead>\n",
       "    <tr style=\"text-align: right;\">\n",
       "      <th></th>\n",
       "      <th>ID</th>\n",
       "      <th>TEXT</th>\n",
       "      <th>Precision</th>\n",
       "      <th>Average Precision</th>\n",
       "      <th>nDCG</th>\n",
       "    </tr>\n",
       "  </thead>\n",
       "  <tbody>\n",
       "    <tr>\n",
       "      <th>0</th>\n",
       "      <td>PLAIN-1</td>\n",
       "      <td>deep fri food may caus cancer latest studi die...</td>\n",
       "      <td>0.4</td>\n",
       "      <td>0.333333</td>\n",
       "      <td>0.508740</td>\n",
       "    </tr>\n",
       "    <tr>\n",
       "      <th>1</th>\n",
       "      <td>PLAIN-1007</td>\n",
       "      <td>ddt persist organ pollut industri toxin pestic...</td>\n",
       "      <td>0.8</td>\n",
       "      <td>0.543333</td>\n",
       "      <td>0.660840</td>\n",
       "    </tr>\n",
       "    <tr>\n",
       "      <th>2</th>\n",
       "      <td>PLAIN-101</td>\n",
       "      <td>treat multipl sclerosi diet multipl sclerosi u...</td>\n",
       "      <td>0.0</td>\n",
       "      <td>0.000000</td>\n",
       "      <td>0.000000</td>\n",
       "    </tr>\n",
       "    <tr>\n",
       "      <th>3</th>\n",
       "      <td>PLAIN-1017</td>\n",
       "      <td>detoxif cancer raw food heart health heart dis...</td>\n",
       "      <td>0.0</td>\n",
       "      <td>0.000000</td>\n",
       "      <td>0.000000</td>\n",
       "    </tr>\n",
       "    <tr>\n",
       "      <th>4</th>\n",
       "      <td>PLAIN-1027</td>\n",
       "      <td>dietari guidelin heart diseas cardiovascular d...</td>\n",
       "      <td>0.2</td>\n",
       "      <td>0.050000</td>\n",
       "      <td>0.146068</td>\n",
       "    </tr>\n",
       "    <tr>\n",
       "      <th>5</th>\n",
       "      <td>PLAIN-1038</td>\n",
       "      <td>dog meat anim product cat heart health tobacco...</td>\n",
       "      <td>0.8</td>\n",
       "      <td>0.543333</td>\n",
       "      <td>0.660840</td>\n",
       "    </tr>\n",
       "    <tr>\n",
       "      <th>6</th>\n",
       "      <td>PLAIN-1049</td>\n",
       "      <td>dr heart health heart diseas egg cholesterol s...</td>\n",
       "      <td>0.0</td>\n",
       "      <td>0.000000</td>\n",
       "      <td>0.000000</td>\n",
       "    </tr>\n",
       "    <tr>\n",
       "      <th>7</th>\n",
       "      <td>PLAIN-1065</td>\n",
       "      <td>dr walter mortal heart diseas heart health die...</td>\n",
       "      <td>0.0</td>\n",
       "      <td>0.000000</td>\n",
       "      <td>0.000000</td>\n",
       "    </tr>\n",
       "    <tr>\n",
       "      <th>8</th>\n",
       "      <td>PLAIN-1077</td>\n",
       "      <td>thyroid health hijiki sushi iodin sea veget sa...</td>\n",
       "      <td>0.0</td>\n",
       "      <td>0.000000</td>\n",
       "      <td>0.000000</td>\n",
       "    </tr>\n",
       "    <tr>\n",
       "      <th>9</th>\n",
       "      <td>PLAIN-1087</td>\n",
       "      <td>easter island mortal muscl strength morbid moo...</td>\n",
       "      <td>0.2</td>\n",
       "      <td>0.050000</td>\n",
       "      <td>0.146068</td>\n",
       "    </tr>\n",
       "  </tbody>\n",
       "</table>\n",
       "</div>"
      ],
      "text/plain": [
       "           ID                                               TEXT  Precision  \\\n",
       "0     PLAIN-1  deep fri food may caus cancer latest studi die...        0.4   \n",
       "1  PLAIN-1007  ddt persist organ pollut industri toxin pestic...        0.8   \n",
       "2   PLAIN-101  treat multipl sclerosi diet multipl sclerosi u...        0.0   \n",
       "3  PLAIN-1017  detoxif cancer raw food heart health heart dis...        0.0   \n",
       "4  PLAIN-1027  dietari guidelin heart diseas cardiovascular d...        0.2   \n",
       "5  PLAIN-1038  dog meat anim product cat heart health tobacco...        0.8   \n",
       "6  PLAIN-1049  dr heart health heart diseas egg cholesterol s...        0.0   \n",
       "7  PLAIN-1065  dr walter mortal heart diseas heart health die...        0.0   \n",
       "8  PLAIN-1077  thyroid health hijiki sushi iodin sea veget sa...        0.0   \n",
       "9  PLAIN-1087  easter island mortal muscl strength morbid moo...        0.2   \n",
       "\n",
       "   Average Precision      nDCG  \n",
       "0           0.333333  0.508740  \n",
       "1           0.543333  0.660840  \n",
       "2           0.000000  0.000000  \n",
       "3           0.000000  0.000000  \n",
       "4           0.050000  0.146068  \n",
       "5           0.543333  0.660840  \n",
       "6           0.000000  0.000000  \n",
       "7           0.000000  0.000000  \n",
       "8           0.000000  0.000000  \n",
       "9           0.050000  0.146068  "
      ]
     },
     "execution_count": 31,
     "metadata": {},
     "output_type": "execute_result"
    }
   ],
   "source": [
    "evaluate_with_leaders_state_110.head(10)"
   ]
  },
  {
   "cell_type": "code",
   "execution_count": 32,
   "metadata": {},
   "outputs": [
    {
     "data": {
      "text/html": [
       "<div>\n",
       "<style scoped>\n",
       "    .dataframe tbody tr th:only-of-type {\n",
       "        vertical-align: middle;\n",
       "    }\n",
       "\n",
       "    .dataframe tbody tr th {\n",
       "        vertical-align: top;\n",
       "    }\n",
       "\n",
       "    .dataframe thead th {\n",
       "        text-align: right;\n",
       "    }\n",
       "</style>\n",
       "<table border=\"1\" class=\"dataframe\">\n",
       "  <thead>\n",
       "    <tr style=\"text-align: right;\">\n",
       "      <th></th>\n",
       "      <th>Precision</th>\n",
       "      <th>Average Precision</th>\n",
       "      <th>nDCG</th>\n",
       "    </tr>\n",
       "  </thead>\n",
       "  <tbody>\n",
       "    <tr>\n",
       "      <th>count</th>\n",
       "      <td>325.000000</td>\n",
       "      <td>325.000000</td>\n",
       "      <td>325.000000</td>\n",
       "    </tr>\n",
       "    <tr>\n",
       "      <th>mean</th>\n",
       "      <td>0.189949</td>\n",
       "      <td>0.119456</td>\n",
       "      <td>0.156642</td>\n",
       "    </tr>\n",
       "    <tr>\n",
       "      <th>std</th>\n",
       "      <td>0.288398</td>\n",
       "      <td>0.238078</td>\n",
       "      <td>0.250659</td>\n",
       "    </tr>\n",
       "    <tr>\n",
       "      <th>min</th>\n",
       "      <td>0.000000</td>\n",
       "      <td>0.000000</td>\n",
       "      <td>0.000000</td>\n",
       "    </tr>\n",
       "    <tr>\n",
       "      <th>25%</th>\n",
       "      <td>0.000000</td>\n",
       "      <td>0.000000</td>\n",
       "      <td>0.000000</td>\n",
       "    </tr>\n",
       "    <tr>\n",
       "      <th>50%</th>\n",
       "      <td>0.000000</td>\n",
       "      <td>0.000000</td>\n",
       "      <td>0.000000</td>\n",
       "    </tr>\n",
       "    <tr>\n",
       "      <th>75%</th>\n",
       "      <td>0.250000</td>\n",
       "      <td>0.100000</td>\n",
       "      <td>0.218370</td>\n",
       "    </tr>\n",
       "    <tr>\n",
       "      <th>max</th>\n",
       "      <td>1.000000</td>\n",
       "      <td>1.000000</td>\n",
       "      <td>1.000000</td>\n",
       "    </tr>\n",
       "  </tbody>\n",
       "</table>\n",
       "</div>"
      ],
      "text/plain": [
       "        Precision  Average Precision        nDCG\n",
       "count  325.000000         325.000000  325.000000\n",
       "mean     0.189949           0.119456    0.156642\n",
       "std      0.288398           0.238078    0.250659\n",
       "min      0.000000           0.000000    0.000000\n",
       "25%      0.000000           0.000000    0.000000\n",
       "50%      0.000000           0.000000    0.000000\n",
       "75%      0.250000           0.100000    0.218370\n",
       "max      1.000000           1.000000    1.000000"
      ]
     },
     "execution_count": 32,
     "metadata": {},
     "output_type": "execute_result"
    }
   ],
   "source": [
    "evaluate_with_leaders_state_110.describe()"
   ]
  },
  {
   "cell_type": "markdown",
   "metadata": {},
   "source": [
    "## Random state = 1100 "
   ]
  },
  {
   "cell_type": "code",
   "execution_count": 33,
   "metadata": {},
   "outputs": [],
   "source": [
    "leaders, cluster_list = allocate_docs_to_clusters(1100, sqrt_n, cosine = True, Faiss = False)"
   ]
  },
  {
   "cell_type": "code",
   "execution_count": 34,
   "metadata": {},
   "outputs": [
    {
     "name": "stdout",
     "output_type": "stream",
     "text": [
      "Average precision across all queries = 0.22235897435897453\n",
      "Mean Average Precision = 0.1457384615384616\n",
      "Average nDCG = 0.18726216676986415\n",
      "Evaluation execution time, sec = 39.06650996208191\n"
     ]
    }
   ],
   "source": [
    "start = time.time()\n",
    "evaluate_with_leaders_state_1100 = evaluate_preclustering()\n",
    "print(\"Evaluation execution time, sec = \" + str(time.time()-start))"
   ]
  },
  {
   "cell_type": "code",
   "execution_count": 35,
   "metadata": {},
   "outputs": [
    {
     "data": {
      "text/html": [
       "<div>\n",
       "<style scoped>\n",
       "    .dataframe tbody tr th:only-of-type {\n",
       "        vertical-align: middle;\n",
       "    }\n",
       "\n",
       "    .dataframe tbody tr th {\n",
       "        vertical-align: top;\n",
       "    }\n",
       "\n",
       "    .dataframe thead th {\n",
       "        text-align: right;\n",
       "    }\n",
       "</style>\n",
       "<table border=\"1\" class=\"dataframe\">\n",
       "  <thead>\n",
       "    <tr style=\"text-align: right;\">\n",
       "      <th></th>\n",
       "      <th>ID</th>\n",
       "      <th>TEXT</th>\n",
       "      <th>Precision</th>\n",
       "      <th>Average Precision</th>\n",
       "      <th>nDCG</th>\n",
       "    </tr>\n",
       "  </thead>\n",
       "  <tbody>\n",
       "    <tr>\n",
       "      <th>0</th>\n",
       "      <td>PLAIN-1</td>\n",
       "      <td>deep fri food may caus cancer latest studi die...</td>\n",
       "      <td>0.8</td>\n",
       "      <td>0.543333</td>\n",
       "      <td>0.415210</td>\n",
       "    </tr>\n",
       "    <tr>\n",
       "      <th>1</th>\n",
       "      <td>PLAIN-1007</td>\n",
       "      <td>ddt persist organ pollut industri toxin pestic...</td>\n",
       "      <td>0.0</td>\n",
       "      <td>0.000000</td>\n",
       "      <td>0.000000</td>\n",
       "    </tr>\n",
       "    <tr>\n",
       "      <th>2</th>\n",
       "      <td>PLAIN-101</td>\n",
       "      <td>treat multipl sclerosi diet multipl sclerosi u...</td>\n",
       "      <td>0.0</td>\n",
       "      <td>0.000000</td>\n",
       "      <td>0.000000</td>\n",
       "    </tr>\n",
       "    <tr>\n",
       "      <th>3</th>\n",
       "      <td>PLAIN-1017</td>\n",
       "      <td>detoxif cancer raw food heart health heart dis...</td>\n",
       "      <td>0.0</td>\n",
       "      <td>0.000000</td>\n",
       "      <td>0.000000</td>\n",
       "    </tr>\n",
       "    <tr>\n",
       "      <th>4</th>\n",
       "      <td>PLAIN-1027</td>\n",
       "      <td>dietari guidelin heart diseas cardiovascular d...</td>\n",
       "      <td>0.2</td>\n",
       "      <td>0.040000</td>\n",
       "      <td>0.131205</td>\n",
       "    </tr>\n",
       "    <tr>\n",
       "      <th>5</th>\n",
       "      <td>PLAIN-1038</td>\n",
       "      <td>dog meat anim product cat heart health tobacco...</td>\n",
       "      <td>0.0</td>\n",
       "      <td>0.000000</td>\n",
       "      <td>0.000000</td>\n",
       "    </tr>\n",
       "    <tr>\n",
       "      <th>6</th>\n",
       "      <td>PLAIN-1049</td>\n",
       "      <td>dr heart health heart diseas egg cholesterol s...</td>\n",
       "      <td>0.0</td>\n",
       "      <td>0.000000</td>\n",
       "      <td>0.000000</td>\n",
       "    </tr>\n",
       "    <tr>\n",
       "      <th>7</th>\n",
       "      <td>PLAIN-1065</td>\n",
       "      <td>dr walter mortal heart diseas heart health die...</td>\n",
       "      <td>0.0</td>\n",
       "      <td>0.000000</td>\n",
       "      <td>0.000000</td>\n",
       "    </tr>\n",
       "    <tr>\n",
       "      <th>8</th>\n",
       "      <td>PLAIN-1077</td>\n",
       "      <td>thyroid health hijiki sushi iodin sea veget sa...</td>\n",
       "      <td>0.8</td>\n",
       "      <td>0.760000</td>\n",
       "      <td>0.853932</td>\n",
       "    </tr>\n",
       "    <tr>\n",
       "      <th>9</th>\n",
       "      <td>PLAIN-1087</td>\n",
       "      <td>easter island mortal muscl strength morbid moo...</td>\n",
       "      <td>0.2</td>\n",
       "      <td>0.066667</td>\n",
       "      <td>0.169580</td>\n",
       "    </tr>\n",
       "  </tbody>\n",
       "</table>\n",
       "</div>"
      ],
      "text/plain": [
       "           ID                                               TEXT  Precision  \\\n",
       "0     PLAIN-1  deep fri food may caus cancer latest studi die...        0.8   \n",
       "1  PLAIN-1007  ddt persist organ pollut industri toxin pestic...        0.0   \n",
       "2   PLAIN-101  treat multipl sclerosi diet multipl sclerosi u...        0.0   \n",
       "3  PLAIN-1017  detoxif cancer raw food heart health heart dis...        0.0   \n",
       "4  PLAIN-1027  dietari guidelin heart diseas cardiovascular d...        0.2   \n",
       "5  PLAIN-1038  dog meat anim product cat heart health tobacco...        0.0   \n",
       "6  PLAIN-1049  dr heart health heart diseas egg cholesterol s...        0.0   \n",
       "7  PLAIN-1065  dr walter mortal heart diseas heart health die...        0.0   \n",
       "8  PLAIN-1077  thyroid health hijiki sushi iodin sea veget sa...        0.8   \n",
       "9  PLAIN-1087  easter island mortal muscl strength morbid moo...        0.2   \n",
       "\n",
       "   Average Precision      nDCG  \n",
       "0           0.543333  0.415210  \n",
       "1           0.000000  0.000000  \n",
       "2           0.000000  0.000000  \n",
       "3           0.000000  0.000000  \n",
       "4           0.040000  0.131205  \n",
       "5           0.000000  0.000000  \n",
       "6           0.000000  0.000000  \n",
       "7           0.000000  0.000000  \n",
       "8           0.760000  0.853932  \n",
       "9           0.066667  0.169580  "
      ]
     },
     "execution_count": 35,
     "metadata": {},
     "output_type": "execute_result"
    }
   ],
   "source": [
    "evaluate_with_leaders_state_1100.head(10)"
   ]
  },
  {
   "cell_type": "code",
   "execution_count": 36,
   "metadata": {},
   "outputs": [
    {
     "data": {
      "text/html": [
       "<div>\n",
       "<style scoped>\n",
       "    .dataframe tbody tr th:only-of-type {\n",
       "        vertical-align: middle;\n",
       "    }\n",
       "\n",
       "    .dataframe tbody tr th {\n",
       "        vertical-align: top;\n",
       "    }\n",
       "\n",
       "    .dataframe thead th {\n",
       "        text-align: right;\n",
       "    }\n",
       "</style>\n",
       "<table border=\"1\" class=\"dataframe\">\n",
       "  <thead>\n",
       "    <tr style=\"text-align: right;\">\n",
       "      <th></th>\n",
       "      <th>Precision</th>\n",
       "      <th>Average Precision</th>\n",
       "      <th>nDCG</th>\n",
       "    </tr>\n",
       "  </thead>\n",
       "  <tbody>\n",
       "    <tr>\n",
       "      <th>count</th>\n",
       "      <td>325.000000</td>\n",
       "      <td>325.000000</td>\n",
       "      <td>325.000000</td>\n",
       "    </tr>\n",
       "    <tr>\n",
       "      <th>mean</th>\n",
       "      <td>0.222359</td>\n",
       "      <td>0.145738</td>\n",
       "      <td>0.187262</td>\n",
       "    </tr>\n",
       "    <tr>\n",
       "      <th>std</th>\n",
       "      <td>0.311055</td>\n",
       "      <td>0.264541</td>\n",
       "      <td>0.278859</td>\n",
       "    </tr>\n",
       "    <tr>\n",
       "      <th>min</th>\n",
       "      <td>0.000000</td>\n",
       "      <td>0.000000</td>\n",
       "      <td>0.000000</td>\n",
       "    </tr>\n",
       "    <tr>\n",
       "      <th>25%</th>\n",
       "      <td>0.000000</td>\n",
       "      <td>0.000000</td>\n",
       "      <td>0.000000</td>\n",
       "    </tr>\n",
       "    <tr>\n",
       "      <th>50%</th>\n",
       "      <td>0.000000</td>\n",
       "      <td>0.000000</td>\n",
       "      <td>0.000000</td>\n",
       "    </tr>\n",
       "    <tr>\n",
       "      <th>75%</th>\n",
       "      <td>0.400000</td>\n",
       "      <td>0.166667</td>\n",
       "      <td>0.298776</td>\n",
       "    </tr>\n",
       "    <tr>\n",
       "      <th>max</th>\n",
       "      <td>1.000000</td>\n",
       "      <td>1.000000</td>\n",
       "      <td>1.000000</td>\n",
       "    </tr>\n",
       "  </tbody>\n",
       "</table>\n",
       "</div>"
      ],
      "text/plain": [
       "        Precision  Average Precision        nDCG\n",
       "count  325.000000         325.000000  325.000000\n",
       "mean     0.222359           0.145738    0.187262\n",
       "std      0.311055           0.264541    0.278859\n",
       "min      0.000000           0.000000    0.000000\n",
       "25%      0.000000           0.000000    0.000000\n",
       "50%      0.000000           0.000000    0.000000\n",
       "75%      0.400000           0.166667    0.298776\n",
       "max      1.000000           1.000000    1.000000"
      ]
     },
     "execution_count": 36,
     "metadata": {},
     "output_type": "execute_result"
    }
   ],
   "source": [
    "evaluate_with_leaders_state_1100.describe()"
   ]
  },
  {
   "cell_type": "markdown",
   "metadata": {},
   "source": [
    "# Faiss pre-clustering"
   ]
  },
  {
   "cell_type": "markdown",
   "metadata": {},
   "source": [
    "## Random state = 11 "
   ]
  },
  {
   "cell_type": "code",
   "execution_count": 37,
   "metadata": {},
   "outputs": [
    {
     "ename": "NameError",
     "evalue": "name 'faiss' is not defined",
     "output_type": "error",
     "traceback": [
      "\u001b[1;31m---------------------------------------------------------------------------\u001b[0m",
      "\u001b[1;31mNameError\u001b[0m                                 Traceback (most recent call last)",
      "\u001b[1;32m~\\OneDrive\\Документы\\GitHub\\IRWS\\functions_helper.py\u001b[0m in \u001b[0;36m<module>\u001b[1;34m\u001b[0m\n\u001b[1;32m----> 1\u001b[1;33m \u001b[0mleaders\u001b[0m\u001b[1;33m,\u001b[0m \u001b[0mcluster_list\u001b[0m \u001b[1;33m=\u001b[0m \u001b[0mallocate_docs_to_clusters\u001b[0m\u001b[1;33m(\u001b[0m\u001b[1;36m11\u001b[0m\u001b[1;33m,\u001b[0m \u001b[0msqrt_n\u001b[0m\u001b[1;33m,\u001b[0m \u001b[0mcosine\u001b[0m \u001b[1;33m=\u001b[0m \u001b[1;32mFalse\u001b[0m\u001b[1;33m,\u001b[0m \u001b[0mFaiss\u001b[0m \u001b[1;33m=\u001b[0m \u001b[1;32mTrue\u001b[0m\u001b[1;33m)\u001b[0m\u001b[1;33m\u001b[0m\u001b[1;33m\u001b[0m\u001b[0m\n\u001b[0m\u001b[0;32m      2\u001b[0m \u001b[0mindex\u001b[0m\u001b[1;33m,\u001b[0m \u001b[0mindices\u001b[0m \u001b[1;33m=\u001b[0m \u001b[0mset_indeces_for_faiss\u001b[0m\u001b[1;33m(\u001b[0m\u001b[1;33m)\u001b[0m\u001b[1;33m\u001b[0m\u001b[1;33m\u001b[0m\u001b[0m\n\u001b[0;32m      3\u001b[0m \u001b[0mevaluate_with_leaders_state_11_faiss\u001b[0m \u001b[1;33m=\u001b[0m \u001b[0mevaluate_preclustering_faiss\u001b[0m\u001b[1;33m(\u001b[0m\u001b[1;33m)\u001b[0m\u001b[1;33m\u001b[0m\u001b[1;33m\u001b[0m\u001b[0m\n",
      "\u001b[1;32m~\\OneDrive\\Документы\\GitHub\\IRWS\\functions_helper.py\u001b[0m in \u001b[0;36mallocate_docs_to_clusters\u001b[1;34m(rs, sqrt_n, cosine, Faiss)\u001b[0m\n\u001b[0;32m    273\u001b[0m \u001b[1;33m\u001b[0m\u001b[0m\n\u001b[0;32m    274\u001b[0m         \u001b[0mleaders\u001b[0m \u001b[1;33m=\u001b[0m \u001b[0mleaders\u001b[0m\u001b[1;33m.\u001b[0m\u001b[0mastype\u001b[0m\u001b[1;33m(\u001b[0m\u001b[1;34m'float32'\u001b[0m\u001b[1;33m)\u001b[0m\u001b[1;33m\u001b[0m\u001b[1;33m\u001b[0m\u001b[0m\n\u001b[1;32m--> 275\u001b[1;33m         \u001b[0mindex\u001b[0m \u001b[1;33m=\u001b[0m \u001b[0mfaiss\u001b[0m\u001b[1;33m.\u001b[0m\u001b[0mIndexFlatL2\u001b[0m\u001b[1;33m(\u001b[0m\u001b[0mlen\u001b[0m\u001b[1;33m(\u001b[0m\u001b[0mleaders\u001b[0m\u001b[1;33m.\u001b[0m\u001b[0mcolumns\u001b[0m\u001b[1;33m)\u001b[0m\u001b[1;33m)\u001b[0m\u001b[1;33m\u001b[0m\u001b[1;33m\u001b[0m\u001b[0m\n\u001b[0m\u001b[0;32m    276\u001b[0m         \u001b[0mindex\u001b[0m\u001b[1;33m.\u001b[0m\u001b[0madd\u001b[0m\u001b[1;33m(\u001b[0m\u001b[0mnp\u001b[0m\u001b[1;33m.\u001b[0m\u001b[0mascontiguousarray\u001b[0m\u001b[1;33m(\u001b[0m\u001b[0mleaders\u001b[0m\u001b[1;33m.\u001b[0m\u001b[0mvalues\u001b[0m\u001b[1;33m)\u001b[0m\u001b[1;33m)\u001b[0m\u001b[1;33m\u001b[0m\u001b[1;33m\u001b[0m\u001b[0m\n\u001b[0;32m    277\u001b[0m \u001b[1;33m\u001b[0m\u001b[0m\n",
      "\u001b[1;31mNameError\u001b[0m: name 'faiss' is not defined"
     ]
    }
   ],
   "source": [
    "leaders, cluster_list = allocate_docs_to_clusters(11, sqrt_n, cosine = False, Faiss = True)\n",
    "index, indices = set_indeces_for_faiss()\n",
    "evaluate_with_leaders_state_11_faiss = evaluate_preclustering_faiss()"
   ]
  },
  {
   "cell_type": "code",
   "execution_count": null,
   "metadata": {},
   "outputs": [],
   "source": [
    "evaluate_with_leaders_state_11_faiss.head()"
   ]
  },
  {
   "cell_type": "code",
   "execution_count": null,
   "metadata": {},
   "outputs": [],
   "source": [
    "evaluate_with_leaders_state_11_faiss.describe()"
   ]
  },
  {
   "cell_type": "markdown",
   "metadata": {},
   "source": [
    "## Random state = 110 "
   ]
  },
  {
   "cell_type": "code",
   "execution_count": null,
   "metadata": {},
   "outputs": [],
   "source": [
    "leaders, cluster_list = allocate_docs_to_clusters(110, sqrt_n, cosine = False, Faiss = True)\n",
    "index, indices = set_indeces_for_faiss()\n",
    "evaluate_with_leaders_state_110_faiss = evaluate_preclustering_faiss()"
   ]
  },
  {
   "cell_type": "code",
   "execution_count": null,
   "metadata": {},
   "outputs": [],
   "source": [
    "evaluate_with_leaders_state_110_faiss.head(10)"
   ]
  },
  {
   "cell_type": "code",
   "execution_count": null,
   "metadata": {},
   "outputs": [],
   "source": [
    "evaluate_with_leaders_state_110_faiss.describe()"
   ]
  },
  {
   "cell_type": "markdown",
   "metadata": {},
   "source": [
    "## Random state = 1100 "
   ]
  },
  {
   "cell_type": "code",
   "execution_count": null,
   "metadata": {},
   "outputs": [],
   "source": [
    "leaders, cluster_list = allocate_docs_to_clusters(1100, sqrt_n, cosine = False, Faiss = True)\n",
    "index, indices = set_indeces_for_faiss()"
   ]
  },
  {
   "cell_type": "code",
   "execution_count": null,
   "metadata": {},
   "outputs": [],
   "source": [
    "%%time\n",
    "evaluate_with_leaders_state_1100_faiss = evaluate_preclustering_faiss()"
   ]
  },
  {
   "cell_type": "code",
   "execution_count": null,
   "metadata": {},
   "outputs": [],
   "source": [
    "evaluate_with_leaders_state_1100_faiss.head(10)"
   ]
  },
  {
   "cell_type": "code",
   "execution_count": 38,
   "metadata": {},
   "outputs": [
    {
     "ename": "NameError",
     "evalue": "name 'evaluate_with_leaders_state_1100_faiss' is not defined",
     "output_type": "error",
     "traceback": [
      "\u001b[1;31m---------------------------------------------------------------------------\u001b[0m",
      "\u001b[1;31mNameError\u001b[0m                                 Traceback (most recent call last)",
      "\u001b[1;32m~\\OneDrive\\Документы\\GitHub\\IRWS\\functions_helper.py\u001b[0m in \u001b[0;36m<module>\u001b[1;34m\u001b[0m\n\u001b[1;32m----> 1\u001b[1;33m \u001b[0mevaluate_with_leaders_state_1100_faiss\u001b[0m\u001b[1;33m.\u001b[0m\u001b[0mdescribe\u001b[0m\u001b[1;33m(\u001b[0m\u001b[1;33m)\u001b[0m\u001b[1;33m\u001b[0m\u001b[1;33m\u001b[0m\u001b[0m\n\u001b[0m",
      "\u001b[1;31mNameError\u001b[0m: name 'evaluate_with_leaders_state_1100_faiss' is not defined"
     ]
    }
   ],
   "source": [
    "evaluate_with_leaders_state_1100_faiss.describe()"
   ]
  },
  {
   "cell_type": "markdown",
   "metadata": {},
   "source": [
    "# KMeans pre-clustering"
   ]
  },
  {
   "cell_type": "markdown",
   "metadata": {},
   "source": [
    "## Random state = 11 "
   ]
  },
  {
   "cell_type": "code",
   "execution_count": 41,
   "metadata": {},
   "outputs": [
    {
     "data": {
      "text/plain": [
       "KMeans(algorithm='auto', copy_x=True, init='k-means++', max_iter=300,\n",
       "       n_clusters=57, n_init=10, n_jobs=None, precompute_distances='auto',\n",
       "       random_state=11, tol=0.0001, verbose=0)"
      ]
     },
     "execution_count": 41,
     "metadata": {},
     "output_type": "execute_result"
    }
   ],
   "source": [
    "#Run the clustering algorithm\n",
    "estimator = KMeans(n_clusters = sqrt_n, random_state = 11)\n",
    "model = estimator.fit(tf_idf_matrix)\n",
    "model"
   ]
  },
  {
   "cell_type": "code",
   "execution_count": 42,
   "metadata": {},
   "outputs": [
    {
     "data": {
      "text/plain": [
       "array([31, 31,  2, ..., 31,  8,  2])"
      ]
     },
     "execution_count": 42,
     "metadata": {},
     "output_type": "execute_result"
    }
   ],
   "source": [
    "#Generate cluster predictions and store in y_hat\n",
    "y_hat = estimator.predict(tf_idf_matrix) #predicting to which cluster the query belongs\n",
    "y_hat #array of belongings of docs to cluster"
   ]
  },
  {
   "cell_type": "code",
   "execution_count": 43,
   "metadata": {},
   "outputs": [],
   "source": [
    "cluster_list_kmeans = []\n",
    "for i in range(sqrt_n):\n",
    "    cluster_list_kmeans.append([])\n",
    "\n",
    "for i in range(no_of_docs):\n",
    "    for j in range(sqrt_n):\n",
    "        if y_hat[i] == j:\n",
    "            cluster_list_kmeans[j].append(i)"
   ]
  },
  {
   "cell_type": "code",
   "execution_count": 44,
   "metadata": {},
   "outputs": [],
   "source": [
    "#Since we have 57 clusters, we are going to compare the query vector with 57 vectors of cluster centroids\n",
    "#All of cluster centroids are stored in the attribute cluster_centers\n",
    "centers = np.array(model.cluster_centers_)"
   ]
  },
  {
   "cell_type": "code",
   "execution_count": 45,
   "metadata": {},
   "outputs": [
    {
     "name": "stdout",
     "output_type": "stream",
     "text": [
      "Average precision across all queries = 0.3051282051282056\n",
      "Mean Average Precision = 0.20255641025641039\n",
      "Average nDCG = 0.26325800853754705\n"
     ]
    }
   ],
   "source": [
    "evaluate_kmeans_random_state_11 = evaluate_preclustering_kmeans()"
   ]
  },
  {
   "cell_type": "code",
   "execution_count": 46,
   "metadata": {},
   "outputs": [
    {
     "data": {
      "text/html": [
       "<div>\n",
       "<style scoped>\n",
       "    .dataframe tbody tr th:only-of-type {\n",
       "        vertical-align: middle;\n",
       "    }\n",
       "\n",
       "    .dataframe tbody tr th {\n",
       "        vertical-align: top;\n",
       "    }\n",
       "\n",
       "    .dataframe thead th {\n",
       "        text-align: right;\n",
       "    }\n",
       "</style>\n",
       "<table border=\"1\" class=\"dataframe\">\n",
       "  <thead>\n",
       "    <tr style=\"text-align: right;\">\n",
       "      <th></th>\n",
       "      <th>ID</th>\n",
       "      <th>TEXT</th>\n",
       "      <th>Precision</th>\n",
       "      <th>Average Precision</th>\n",
       "      <th>nDCG</th>\n",
       "    </tr>\n",
       "  </thead>\n",
       "  <tbody>\n",
       "    <tr>\n",
       "      <th>0</th>\n",
       "      <td>PLAIN-1</td>\n",
       "      <td>deep fri food may caus cancer latest studi die...</td>\n",
       "      <td>0.60</td>\n",
       "      <td>0.286667</td>\n",
       "      <td>0.308217</td>\n",
       "    </tr>\n",
       "    <tr>\n",
       "      <th>1</th>\n",
       "      <td>PLAIN-1007</td>\n",
       "      <td>ddt persist organ pollut industri toxin pestic...</td>\n",
       "      <td>0.00</td>\n",
       "      <td>0.000000</td>\n",
       "      <td>0.000000</td>\n",
       "    </tr>\n",
       "    <tr>\n",
       "      <th>2</th>\n",
       "      <td>PLAIN-101</td>\n",
       "      <td>treat multipl sclerosi diet multipl sclerosi u...</td>\n",
       "      <td>0.20</td>\n",
       "      <td>0.050000</td>\n",
       "      <td>0.146068</td>\n",
       "    </tr>\n",
       "    <tr>\n",
       "      <th>3</th>\n",
       "      <td>PLAIN-1017</td>\n",
       "      <td>detoxif cancer raw food heart health heart dis...</td>\n",
       "      <td>0.00</td>\n",
       "      <td>0.000000</td>\n",
       "      <td>0.000000</td>\n",
       "    </tr>\n",
       "    <tr>\n",
       "      <th>4</th>\n",
       "      <td>PLAIN-1027</td>\n",
       "      <td>dietari guidelin heart diseas cardiovascular d...</td>\n",
       "      <td>0.00</td>\n",
       "      <td>0.000000</td>\n",
       "      <td>0.000000</td>\n",
       "    </tr>\n",
       "    <tr>\n",
       "      <th>5</th>\n",
       "      <td>PLAIN-1038</td>\n",
       "      <td>dog meat anim product cat heart health tobacco...</td>\n",
       "      <td>1.00</td>\n",
       "      <td>1.000000</td>\n",
       "      <td>1.000000</td>\n",
       "    </tr>\n",
       "    <tr>\n",
       "      <th>6</th>\n",
       "      <td>PLAIN-1049</td>\n",
       "      <td>dr heart health heart diseas egg cholesterol s...</td>\n",
       "      <td>0.00</td>\n",
       "      <td>0.000000</td>\n",
       "      <td>0.000000</td>\n",
       "    </tr>\n",
       "    <tr>\n",
       "      <th>7</th>\n",
       "      <td>PLAIN-1065</td>\n",
       "      <td>dr walter mortal heart diseas heart health die...</td>\n",
       "      <td>0.00</td>\n",
       "      <td>0.000000</td>\n",
       "      <td>0.000000</td>\n",
       "    </tr>\n",
       "    <tr>\n",
       "      <th>8</th>\n",
       "      <td>PLAIN-1077</td>\n",
       "      <td>thyroid health hijiki sushi iodin sea veget sa...</td>\n",
       "      <td>0.25</td>\n",
       "      <td>0.050000</td>\n",
       "      <td>0.146068</td>\n",
       "    </tr>\n",
       "    <tr>\n",
       "      <th>9</th>\n",
       "      <td>PLAIN-1087</td>\n",
       "      <td>easter island mortal muscl strength morbid moo...</td>\n",
       "      <td>0.20</td>\n",
       "      <td>0.040000</td>\n",
       "      <td>0.131205</td>\n",
       "    </tr>\n",
       "  </tbody>\n",
       "</table>\n",
       "</div>"
      ],
      "text/plain": [
       "           ID                                               TEXT  Precision  \\\n",
       "0     PLAIN-1  deep fri food may caus cancer latest studi die...       0.60   \n",
       "1  PLAIN-1007  ddt persist organ pollut industri toxin pestic...       0.00   \n",
       "2   PLAIN-101  treat multipl sclerosi diet multipl sclerosi u...       0.20   \n",
       "3  PLAIN-1017  detoxif cancer raw food heart health heart dis...       0.00   \n",
       "4  PLAIN-1027  dietari guidelin heart diseas cardiovascular d...       0.00   \n",
       "5  PLAIN-1038  dog meat anim product cat heart health tobacco...       1.00   \n",
       "6  PLAIN-1049  dr heart health heart diseas egg cholesterol s...       0.00   \n",
       "7  PLAIN-1065  dr walter mortal heart diseas heart health die...       0.00   \n",
       "8  PLAIN-1077  thyroid health hijiki sushi iodin sea veget sa...       0.25   \n",
       "9  PLAIN-1087  easter island mortal muscl strength morbid moo...       0.20   \n",
       "\n",
       "   Average Precision      nDCG  \n",
       "0           0.286667  0.308217  \n",
       "1           0.000000  0.000000  \n",
       "2           0.050000  0.146068  \n",
       "3           0.000000  0.000000  \n",
       "4           0.000000  0.000000  \n",
       "5           1.000000  1.000000  \n",
       "6           0.000000  0.000000  \n",
       "7           0.000000  0.000000  \n",
       "8           0.050000  0.146068  \n",
       "9           0.040000  0.131205  "
      ]
     },
     "execution_count": 46,
     "metadata": {},
     "output_type": "execute_result"
    }
   ],
   "source": [
    "evaluate_kmeans_random_state_11.head(10)"
   ]
  },
  {
   "cell_type": "code",
   "execution_count": 47,
   "metadata": {},
   "outputs": [
    {
     "data": {
      "text/html": [
       "<div>\n",
       "<style scoped>\n",
       "    .dataframe tbody tr th:only-of-type {\n",
       "        vertical-align: middle;\n",
       "    }\n",
       "\n",
       "    .dataframe tbody tr th {\n",
       "        vertical-align: top;\n",
       "    }\n",
       "\n",
       "    .dataframe thead th {\n",
       "        text-align: right;\n",
       "    }\n",
       "</style>\n",
       "<table border=\"1\" class=\"dataframe\">\n",
       "  <thead>\n",
       "    <tr style=\"text-align: right;\">\n",
       "      <th></th>\n",
       "      <th>Precision</th>\n",
       "      <th>Average Precision</th>\n",
       "      <th>nDCG</th>\n",
       "    </tr>\n",
       "  </thead>\n",
       "  <tbody>\n",
       "    <tr>\n",
       "      <th>count</th>\n",
       "      <td>325.000000</td>\n",
       "      <td>325.000000</td>\n",
       "      <td>325.000000</td>\n",
       "    </tr>\n",
       "    <tr>\n",
       "      <th>mean</th>\n",
       "      <td>0.305128</td>\n",
       "      <td>0.202556</td>\n",
       "      <td>0.263258</td>\n",
       "    </tr>\n",
       "    <tr>\n",
       "      <th>std</th>\n",
       "      <td>0.327641</td>\n",
       "      <td>0.295193</td>\n",
       "      <td>0.303929</td>\n",
       "    </tr>\n",
       "    <tr>\n",
       "      <th>min</th>\n",
       "      <td>0.000000</td>\n",
       "      <td>0.000000</td>\n",
       "      <td>0.000000</td>\n",
       "    </tr>\n",
       "    <tr>\n",
       "      <th>25%</th>\n",
       "      <td>0.000000</td>\n",
       "      <td>0.000000</td>\n",
       "      <td>0.000000</td>\n",
       "    </tr>\n",
       "    <tr>\n",
       "      <th>50%</th>\n",
       "      <td>0.200000</td>\n",
       "      <td>0.050000</td>\n",
       "      <td>0.169580</td>\n",
       "    </tr>\n",
       "    <tr>\n",
       "      <th>75%</th>\n",
       "      <td>0.500000</td>\n",
       "      <td>0.280000</td>\n",
       "      <td>0.389390</td>\n",
       "    </tr>\n",
       "    <tr>\n",
       "      <th>max</th>\n",
       "      <td>1.000000</td>\n",
       "      <td>1.000000</td>\n",
       "      <td>1.000000</td>\n",
       "    </tr>\n",
       "  </tbody>\n",
       "</table>\n",
       "</div>"
      ],
      "text/plain": [
       "        Precision  Average Precision        nDCG\n",
       "count  325.000000         325.000000  325.000000\n",
       "mean     0.305128           0.202556    0.263258\n",
       "std      0.327641           0.295193    0.303929\n",
       "min      0.000000           0.000000    0.000000\n",
       "25%      0.000000           0.000000    0.000000\n",
       "50%      0.200000           0.050000    0.169580\n",
       "75%      0.500000           0.280000    0.389390\n",
       "max      1.000000           1.000000    1.000000"
      ]
     },
     "execution_count": 47,
     "metadata": {},
     "output_type": "execute_result"
    }
   ],
   "source": [
    "evaluate_kmeans_random_state_11.describe()"
   ]
  },
  {
   "cell_type": "markdown",
   "metadata": {},
   "source": [
    "## Random state = 110 "
   ]
  },
  {
   "cell_type": "code",
   "execution_count": 48,
   "metadata": {},
   "outputs": [
    {
     "data": {
      "text/plain": [
       "KMeans(algorithm='auto', copy_x=True, init='k-means++', max_iter=300,\n",
       "       n_clusters=57, n_init=10, n_jobs=None, precompute_distances='auto',\n",
       "       random_state=110, tol=0.0001, verbose=0)"
      ]
     },
     "execution_count": 48,
     "metadata": {},
     "output_type": "execute_result"
    }
   ],
   "source": [
    "#Run the clustering algorithm\n",
    "estimator = KMeans(n_clusters = sqrt_n, random_state = 110)\n",
    "model = estimator.fit(tf_idf_matrix)\n",
    "model"
   ]
  },
  {
   "cell_type": "code",
   "execution_count": 49,
   "metadata": {},
   "outputs": [
    {
     "data": {
      "text/plain": [
       "array([22, 42,  9, ..., 42, 14,  9])"
      ]
     },
     "execution_count": 49,
     "metadata": {},
     "output_type": "execute_result"
    }
   ],
   "source": [
    "#Generate cluster predictions and store in y_hat\n",
    "y_hat = estimator.predict(tf_idf_matrix) #predicting to which cluster the query belongs\n",
    "y_hat #array of belongings of docs to cluster"
   ]
  },
  {
   "cell_type": "code",
   "execution_count": 50,
   "metadata": {},
   "outputs": [],
   "source": [
    "cluster_list_kmeans = []\n",
    "for i in range(sqrt_n):\n",
    "    cluster_list_kmeans.append([])\n",
    "\n",
    "for i in range(no_of_docs):\n",
    "    for j in range(sqrt_n):\n",
    "        if y_hat[i] == j:\n",
    "            cluster_list_kmeans[j].append(i)"
   ]
  },
  {
   "cell_type": "code",
   "execution_count": 51,
   "metadata": {},
   "outputs": [],
   "source": [
    "#Since we have 57 clusters, we are going to compare the query vector with 57 vectors of cluster centroids\n",
    "#All of cluster centroids are stored in the attribute cluster_centers\n",
    "centers = np.array(model.cluster_centers_)"
   ]
  },
  {
   "cell_type": "code",
   "execution_count": 52,
   "metadata": {},
   "outputs": [
    {
     "name": "stdout",
     "output_type": "stream",
     "text": [
      "Average precision across all queries = 0.2943076923076925\n",
      "Mean Average Precision = 0.18946666666666692\n",
      "Average nDCG = 0.24741120294171953\n"
     ]
    }
   ],
   "source": [
    "evaluate_kmeans_random_state_110 = evaluate_preclustering_kmeans()"
   ]
  },
  {
   "cell_type": "code",
   "execution_count": 53,
   "metadata": {},
   "outputs": [
    {
     "data": {
      "text/html": [
       "<div>\n",
       "<style scoped>\n",
       "    .dataframe tbody tr th:only-of-type {\n",
       "        vertical-align: middle;\n",
       "    }\n",
       "\n",
       "    .dataframe tbody tr th {\n",
       "        vertical-align: top;\n",
       "    }\n",
       "\n",
       "    .dataframe thead th {\n",
       "        text-align: right;\n",
       "    }\n",
       "</style>\n",
       "<table border=\"1\" class=\"dataframe\">\n",
       "  <thead>\n",
       "    <tr style=\"text-align: right;\">\n",
       "      <th></th>\n",
       "      <th>ID</th>\n",
       "      <th>TEXT</th>\n",
       "      <th>Precision</th>\n",
       "      <th>Average Precision</th>\n",
       "      <th>nDCG</th>\n",
       "    </tr>\n",
       "  </thead>\n",
       "  <tbody>\n",
       "    <tr>\n",
       "      <th>0</th>\n",
       "      <td>PLAIN-1</td>\n",
       "      <td>deep fri food may caus cancer latest studi die...</td>\n",
       "      <td>0.40</td>\n",
       "      <td>0.130000</td>\n",
       "      <td>0.277273</td>\n",
       "    </tr>\n",
       "    <tr>\n",
       "      <th>1</th>\n",
       "      <td>PLAIN-1007</td>\n",
       "      <td>ddt persist organ pollut industri toxin pestic...</td>\n",
       "      <td>0.40</td>\n",
       "      <td>0.166667</td>\n",
       "      <td>0.315648</td>\n",
       "    </tr>\n",
       "    <tr>\n",
       "      <th>2</th>\n",
       "      <td>PLAIN-101</td>\n",
       "      <td>treat multipl sclerosi diet multipl sclerosi u...</td>\n",
       "      <td>0.20</td>\n",
       "      <td>0.050000</td>\n",
       "      <td>0.146068</td>\n",
       "    </tr>\n",
       "    <tr>\n",
       "      <th>3</th>\n",
       "      <td>PLAIN-1017</td>\n",
       "      <td>detoxif cancer raw food heart health heart dis...</td>\n",
       "      <td>0.00</td>\n",
       "      <td>0.000000</td>\n",
       "      <td>0.000000</td>\n",
       "    </tr>\n",
       "    <tr>\n",
       "      <th>4</th>\n",
       "      <td>PLAIN-1027</td>\n",
       "      <td>dietari guidelin heart diseas cardiovascular d...</td>\n",
       "      <td>0.20</td>\n",
       "      <td>0.050000</td>\n",
       "      <td>0.146068</td>\n",
       "    </tr>\n",
       "    <tr>\n",
       "      <th>5</th>\n",
       "      <td>PLAIN-1038</td>\n",
       "      <td>dog meat anim product cat heart health tobacco...</td>\n",
       "      <td>0.25</td>\n",
       "      <td>0.050000</td>\n",
       "      <td>0.146068</td>\n",
       "    </tr>\n",
       "    <tr>\n",
       "      <th>6</th>\n",
       "      <td>PLAIN-1049</td>\n",
       "      <td>dr heart health heart diseas egg cholesterol s...</td>\n",
       "      <td>0.00</td>\n",
       "      <td>0.000000</td>\n",
       "      <td>0.000000</td>\n",
       "    </tr>\n",
       "    <tr>\n",
       "      <th>7</th>\n",
       "      <td>PLAIN-1065</td>\n",
       "      <td>dr walter mortal heart diseas heart health die...</td>\n",
       "      <td>0.00</td>\n",
       "      <td>0.000000</td>\n",
       "      <td>0.000000</td>\n",
       "    </tr>\n",
       "    <tr>\n",
       "      <th>8</th>\n",
       "      <td>PLAIN-1077</td>\n",
       "      <td>thyroid health hijiki sushi iodin sea veget sa...</td>\n",
       "      <td>0.00</td>\n",
       "      <td>0.000000</td>\n",
       "      <td>0.000000</td>\n",
       "    </tr>\n",
       "    <tr>\n",
       "      <th>9</th>\n",
       "      <td>PLAIN-1087</td>\n",
       "      <td>easter island mortal muscl strength morbid moo...</td>\n",
       "      <td>0.20</td>\n",
       "      <td>0.100000</td>\n",
       "      <td>0.213986</td>\n",
       "    </tr>\n",
       "  </tbody>\n",
       "</table>\n",
       "</div>"
      ],
      "text/plain": [
       "           ID                                               TEXT  Precision  \\\n",
       "0     PLAIN-1  deep fri food may caus cancer latest studi die...       0.40   \n",
       "1  PLAIN-1007  ddt persist organ pollut industri toxin pestic...       0.40   \n",
       "2   PLAIN-101  treat multipl sclerosi diet multipl sclerosi u...       0.20   \n",
       "3  PLAIN-1017  detoxif cancer raw food heart health heart dis...       0.00   \n",
       "4  PLAIN-1027  dietari guidelin heart diseas cardiovascular d...       0.20   \n",
       "5  PLAIN-1038  dog meat anim product cat heart health tobacco...       0.25   \n",
       "6  PLAIN-1049  dr heart health heart diseas egg cholesterol s...       0.00   \n",
       "7  PLAIN-1065  dr walter mortal heart diseas heart health die...       0.00   \n",
       "8  PLAIN-1077  thyroid health hijiki sushi iodin sea veget sa...       0.00   \n",
       "9  PLAIN-1087  easter island mortal muscl strength morbid moo...       0.20   \n",
       "\n",
       "   Average Precision      nDCG  \n",
       "0           0.130000  0.277273  \n",
       "1           0.166667  0.315648  \n",
       "2           0.050000  0.146068  \n",
       "3           0.000000  0.000000  \n",
       "4           0.050000  0.146068  \n",
       "5           0.050000  0.146068  \n",
       "6           0.000000  0.000000  \n",
       "7           0.000000  0.000000  \n",
       "8           0.000000  0.000000  \n",
       "9           0.100000  0.213986  "
      ]
     },
     "execution_count": 53,
     "metadata": {},
     "output_type": "execute_result"
    }
   ],
   "source": [
    "evaluate_kmeans_random_state_110.head(10)"
   ]
  },
  {
   "cell_type": "code",
   "execution_count": 54,
   "metadata": {},
   "outputs": [
    {
     "data": {
      "text/html": [
       "<div>\n",
       "<style scoped>\n",
       "    .dataframe tbody tr th:only-of-type {\n",
       "        vertical-align: middle;\n",
       "    }\n",
       "\n",
       "    .dataframe tbody tr th {\n",
       "        vertical-align: top;\n",
       "    }\n",
       "\n",
       "    .dataframe thead th {\n",
       "        text-align: right;\n",
       "    }\n",
       "</style>\n",
       "<table border=\"1\" class=\"dataframe\">\n",
       "  <thead>\n",
       "    <tr style=\"text-align: right;\">\n",
       "      <th></th>\n",
       "      <th>Precision</th>\n",
       "      <th>Average Precision</th>\n",
       "      <th>nDCG</th>\n",
       "    </tr>\n",
       "  </thead>\n",
       "  <tbody>\n",
       "    <tr>\n",
       "      <th>count</th>\n",
       "      <td>325.000000</td>\n",
       "      <td>325.000000</td>\n",
       "      <td>325.000000</td>\n",
       "    </tr>\n",
       "    <tr>\n",
       "      <th>mean</th>\n",
       "      <td>0.294308</td>\n",
       "      <td>0.189467</td>\n",
       "      <td>0.247411</td>\n",
       "    </tr>\n",
       "    <tr>\n",
       "      <th>std</th>\n",
       "      <td>0.321899</td>\n",
       "      <td>0.278827</td>\n",
       "      <td>0.290343</td>\n",
       "    </tr>\n",
       "    <tr>\n",
       "      <th>min</th>\n",
       "      <td>0.000000</td>\n",
       "      <td>0.000000</td>\n",
       "      <td>0.000000</td>\n",
       "    </tr>\n",
       "    <tr>\n",
       "      <th>25%</th>\n",
       "      <td>0.000000</td>\n",
       "      <td>0.000000</td>\n",
       "      <td>0.000000</td>\n",
       "    </tr>\n",
       "    <tr>\n",
       "      <th>50%</th>\n",
       "      <td>0.200000</td>\n",
       "      <td>0.050000</td>\n",
       "      <td>0.156324</td>\n",
       "    </tr>\n",
       "    <tr>\n",
       "      <th>75%</th>\n",
       "      <td>0.500000</td>\n",
       "      <td>0.250000</td>\n",
       "      <td>0.383566</td>\n",
       "    </tr>\n",
       "    <tr>\n",
       "      <th>max</th>\n",
       "      <td>1.000000</td>\n",
       "      <td>1.000000</td>\n",
       "      <td>1.000000</td>\n",
       "    </tr>\n",
       "  </tbody>\n",
       "</table>\n",
       "</div>"
      ],
      "text/plain": [
       "        Precision  Average Precision        nDCG\n",
       "count  325.000000         325.000000  325.000000\n",
       "mean     0.294308           0.189467    0.247411\n",
       "std      0.321899           0.278827    0.290343\n",
       "min      0.000000           0.000000    0.000000\n",
       "25%      0.000000           0.000000    0.000000\n",
       "50%      0.200000           0.050000    0.156324\n",
       "75%      0.500000           0.250000    0.383566\n",
       "max      1.000000           1.000000    1.000000"
      ]
     },
     "execution_count": 54,
     "metadata": {},
     "output_type": "execute_result"
    }
   ],
   "source": [
    "evaluate_kmeans_random_state_110.describe()"
   ]
  },
  {
   "cell_type": "markdown",
   "metadata": {},
   "source": [
    "## Random state = 1100 "
   ]
  },
  {
   "cell_type": "code",
   "execution_count": 55,
   "metadata": {},
   "outputs": [
    {
     "data": {
      "text/plain": [
       "KMeans(algorithm='auto', copy_x=True, init='k-means++', max_iter=300,\n",
       "       n_clusters=57, n_init=10, n_jobs=None, precompute_distances='auto',\n",
       "       random_state=1100, tol=0.0001, verbose=0)"
      ]
     },
     "execution_count": 55,
     "metadata": {},
     "output_type": "execute_result"
    }
   ],
   "source": [
    "#Run the clustering algorithm\n",
    "estimator = KMeans(n_clusters = sqrt_n, random_state = 1100)\n",
    "model = estimator.fit(tf_idf_matrix)\n",
    "model"
   ]
  },
  {
   "cell_type": "code",
   "execution_count": 56,
   "metadata": {},
   "outputs": [
    {
     "data": {
      "text/plain": [
       "array([45, 45, 56, ...,  3,  3, 45])"
      ]
     },
     "execution_count": 56,
     "metadata": {},
     "output_type": "execute_result"
    }
   ],
   "source": [
    "#Generate cluster predictions and store in y_hat\n",
    "y_hat = estimator.predict(tf_idf_matrix) #predicting to which cluster the query belongs\n",
    "y_hat #array of belongings of docs to cluster"
   ]
  },
  {
   "cell_type": "code",
   "execution_count": 57,
   "metadata": {},
   "outputs": [],
   "source": [
    "cluster_list_kmeans = []\n",
    "for i in range(sqrt_n):\n",
    "    cluster_list_kmeans.append([])\n",
    "\n",
    "for i in range(no_of_docs):\n",
    "    for j in range(sqrt_n):\n",
    "        if y_hat[i] == j:\n",
    "            cluster_list_kmeans[j].append(i)"
   ]
  },
  {
   "cell_type": "code",
   "execution_count": 58,
   "metadata": {},
   "outputs": [],
   "source": [
    "#Since we have 57 clusters, we are going to compare the query vector with 57 vectors of cluster centroids\n",
    "#All of cluster centroids are stored in the attribute cluster_centers\n",
    "centers = np.array(model.cluster_centers_)"
   ]
  },
  {
   "cell_type": "code",
   "execution_count": 59,
   "metadata": {},
   "outputs": [
    {
     "name": "stdout",
     "output_type": "stream",
     "text": [
      "Average precision across all queries = 0.31564102564102586\n",
      "Mean Average Precision = 0.2192623931623934\n",
      "Average nDCG = 0.2715072399669933\n",
      "Wall time: 3min 24s\n"
     ]
    }
   ],
   "source": [
    "%%time\n",
    "evaluate_kmeans_random_state_1100 = evaluate_preclustering_kmeans()"
   ]
  },
  {
   "cell_type": "code",
   "execution_count": 60,
   "metadata": {},
   "outputs": [
    {
     "data": {
      "text/html": [
       "<div>\n",
       "<style scoped>\n",
       "    .dataframe tbody tr th:only-of-type {\n",
       "        vertical-align: middle;\n",
       "    }\n",
       "\n",
       "    .dataframe tbody tr th {\n",
       "        vertical-align: top;\n",
       "    }\n",
       "\n",
       "    .dataframe thead th {\n",
       "        text-align: right;\n",
       "    }\n",
       "</style>\n",
       "<table border=\"1\" class=\"dataframe\">\n",
       "  <thead>\n",
       "    <tr style=\"text-align: right;\">\n",
       "      <th></th>\n",
       "      <th>ID</th>\n",
       "      <th>TEXT</th>\n",
       "      <th>Precision</th>\n",
       "      <th>Average Precision</th>\n",
       "      <th>nDCG</th>\n",
       "    </tr>\n",
       "  </thead>\n",
       "  <tbody>\n",
       "    <tr>\n",
       "      <th>0</th>\n",
       "      <td>PLAIN-1</td>\n",
       "      <td>deep fri food may caus cancer latest studi die...</td>\n",
       "      <td>0.60</td>\n",
       "      <td>0.286667</td>\n",
       "      <td>0.308217</td>\n",
       "    </tr>\n",
       "    <tr>\n",
       "      <th>1</th>\n",
       "      <td>PLAIN-1007</td>\n",
       "      <td>ddt persist organ pollut industri toxin pestic...</td>\n",
       "      <td>0.50</td>\n",
       "      <td>0.200000</td>\n",
       "      <td>0.360055</td>\n",
       "    </tr>\n",
       "    <tr>\n",
       "      <th>2</th>\n",
       "      <td>PLAIN-101</td>\n",
       "      <td>treat multipl sclerosi diet multipl sclerosi u...</td>\n",
       "      <td>0.40</td>\n",
       "      <td>0.166667</td>\n",
       "      <td>0.242614</td>\n",
       "    </tr>\n",
       "    <tr>\n",
       "      <th>3</th>\n",
       "      <td>PLAIN-1017</td>\n",
       "      <td>detoxif cancer raw food heart health heart dis...</td>\n",
       "      <td>0.00</td>\n",
       "      <td>0.000000</td>\n",
       "      <td>0.000000</td>\n",
       "    </tr>\n",
       "    <tr>\n",
       "      <th>4</th>\n",
       "      <td>PLAIN-1027</td>\n",
       "      <td>dietari guidelin heart diseas cardiovascular d...</td>\n",
       "      <td>0.00</td>\n",
       "      <td>0.000000</td>\n",
       "      <td>0.000000</td>\n",
       "    </tr>\n",
       "    <tr>\n",
       "      <th>5</th>\n",
       "      <td>PLAIN-1038</td>\n",
       "      <td>dog meat anim product cat heart health tobacco...</td>\n",
       "      <td>0.25</td>\n",
       "      <td>0.050000</td>\n",
       "      <td>0.146068</td>\n",
       "    </tr>\n",
       "    <tr>\n",
       "      <th>6</th>\n",
       "      <td>PLAIN-1049</td>\n",
       "      <td>dr heart health heart diseas egg cholesterol s...</td>\n",
       "      <td>0.00</td>\n",
       "      <td>0.000000</td>\n",
       "      <td>0.000000</td>\n",
       "    </tr>\n",
       "    <tr>\n",
       "      <th>7</th>\n",
       "      <td>PLAIN-1065</td>\n",
       "      <td>dr walter mortal heart diseas heart health die...</td>\n",
       "      <td>0.00</td>\n",
       "      <td>0.000000</td>\n",
       "      <td>0.000000</td>\n",
       "    </tr>\n",
       "    <tr>\n",
       "      <th>8</th>\n",
       "      <td>PLAIN-1077</td>\n",
       "      <td>thyroid health hijiki sushi iodin sea veget sa...</td>\n",
       "      <td>0.60</td>\n",
       "      <td>0.600000</td>\n",
       "      <td>0.722727</td>\n",
       "    </tr>\n",
       "    <tr>\n",
       "      <th>9</th>\n",
       "      <td>PLAIN-1087</td>\n",
       "      <td>easter island mortal muscl strength morbid moo...</td>\n",
       "      <td>0.20</td>\n",
       "      <td>0.050000</td>\n",
       "      <td>0.146068</td>\n",
       "    </tr>\n",
       "  </tbody>\n",
       "</table>\n",
       "</div>"
      ],
      "text/plain": [
       "           ID                                               TEXT  Precision  \\\n",
       "0     PLAIN-1  deep fri food may caus cancer latest studi die...       0.60   \n",
       "1  PLAIN-1007  ddt persist organ pollut industri toxin pestic...       0.50   \n",
       "2   PLAIN-101  treat multipl sclerosi diet multipl sclerosi u...       0.40   \n",
       "3  PLAIN-1017  detoxif cancer raw food heart health heart dis...       0.00   \n",
       "4  PLAIN-1027  dietari guidelin heart diseas cardiovascular d...       0.00   \n",
       "5  PLAIN-1038  dog meat anim product cat heart health tobacco...       0.25   \n",
       "6  PLAIN-1049  dr heart health heart diseas egg cholesterol s...       0.00   \n",
       "7  PLAIN-1065  dr walter mortal heart diseas heart health die...       0.00   \n",
       "8  PLAIN-1077  thyroid health hijiki sushi iodin sea veget sa...       0.60   \n",
       "9  PLAIN-1087  easter island mortal muscl strength morbid moo...       0.20   \n",
       "\n",
       "   Average Precision      nDCG  \n",
       "0           0.286667  0.308217  \n",
       "1           0.200000  0.360055  \n",
       "2           0.166667  0.242614  \n",
       "3           0.000000  0.000000  \n",
       "4           0.000000  0.000000  \n",
       "5           0.050000  0.146068  \n",
       "6           0.000000  0.000000  \n",
       "7           0.000000  0.000000  \n",
       "8           0.600000  0.722727  \n",
       "9           0.050000  0.146068  "
      ]
     },
     "execution_count": 60,
     "metadata": {},
     "output_type": "execute_result"
    }
   ],
   "source": [
    "evaluate_kmeans_random_state_1100.head(10)"
   ]
  },
  {
   "cell_type": "code",
   "execution_count": 61,
   "metadata": {},
   "outputs": [
    {
     "data": {
      "text/html": [
       "<div>\n",
       "<style scoped>\n",
       "    .dataframe tbody tr th:only-of-type {\n",
       "        vertical-align: middle;\n",
       "    }\n",
       "\n",
       "    .dataframe tbody tr th {\n",
       "        vertical-align: top;\n",
       "    }\n",
       "\n",
       "    .dataframe thead th {\n",
       "        text-align: right;\n",
       "    }\n",
       "</style>\n",
       "<table border=\"1\" class=\"dataframe\">\n",
       "  <thead>\n",
       "    <tr style=\"text-align: right;\">\n",
       "      <th></th>\n",
       "      <th>Precision</th>\n",
       "      <th>Average Precision</th>\n",
       "      <th>nDCG</th>\n",
       "    </tr>\n",
       "  </thead>\n",
       "  <tbody>\n",
       "    <tr>\n",
       "      <th>count</th>\n",
       "      <td>325.000000</td>\n",
       "      <td>325.000000</td>\n",
       "      <td>325.000000</td>\n",
       "    </tr>\n",
       "    <tr>\n",
       "      <th>mean</th>\n",
       "      <td>0.315641</td>\n",
       "      <td>0.219262</td>\n",
       "      <td>0.271507</td>\n",
       "    </tr>\n",
       "    <tr>\n",
       "      <th>std</th>\n",
       "      <td>0.343845</td>\n",
       "      <td>0.308828</td>\n",
       "      <td>0.314057</td>\n",
       "    </tr>\n",
       "    <tr>\n",
       "      <th>min</th>\n",
       "      <td>0.000000</td>\n",
       "      <td>0.000000</td>\n",
       "      <td>0.000000</td>\n",
       "    </tr>\n",
       "    <tr>\n",
       "      <th>25%</th>\n",
       "      <td>0.000000</td>\n",
       "      <td>0.000000</td>\n",
       "      <td>0.000000</td>\n",
       "    </tr>\n",
       "    <tr>\n",
       "      <th>50%</th>\n",
       "      <td>0.200000</td>\n",
       "      <td>0.062500</td>\n",
       "      <td>0.168954</td>\n",
       "    </tr>\n",
       "    <tr>\n",
       "      <th>75%</th>\n",
       "      <td>0.600000</td>\n",
       "      <td>0.333333</td>\n",
       "      <td>0.469279</td>\n",
       "    </tr>\n",
       "    <tr>\n",
       "      <th>max</th>\n",
       "      <td>1.000000</td>\n",
       "      <td>1.000000</td>\n",
       "      <td>1.000000</td>\n",
       "    </tr>\n",
       "  </tbody>\n",
       "</table>\n",
       "</div>"
      ],
      "text/plain": [
       "        Precision  Average Precision        nDCG\n",
       "count  325.000000         325.000000  325.000000\n",
       "mean     0.315641           0.219262    0.271507\n",
       "std      0.343845           0.308828    0.314057\n",
       "min      0.000000           0.000000    0.000000\n",
       "25%      0.000000           0.000000    0.000000\n",
       "50%      0.200000           0.062500    0.168954\n",
       "75%      0.600000           0.333333    0.469279\n",
       "max      1.000000           1.000000    1.000000"
      ]
     },
     "execution_count": 61,
     "metadata": {},
     "output_type": "execute_result"
    }
   ],
   "source": [
    "evaluate_kmeans_random_state_1100.describe()"
   ]
  },
  {
   "cell_type": "markdown",
   "metadata": {},
   "source": [
    "# Random projections"
   ]
  },
  {
   "cell_type": "code",
   "execution_count": 62,
   "metadata": {},
   "outputs": [],
   "source": [
    "#get the text of query as string\n",
    "\n",
    "queries_text = change_to_string(queries_text)"
   ]
  },
  {
   "cell_type": "code",
   "execution_count": 63,
   "metadata": {},
   "outputs": [
    {
     "name": "stdout",
     "output_type": "stream",
     "text": [
      "dimension of the set of random vectors:  (15000, 19930)\n",
      "[-0.01483543  0.00217144  0.00685049 ... -0.01615313 -0.0048027\n",
      " -0.00412668]\n",
      "1.0\n"
     ]
    }
   ],
   "source": [
    "#create normalized random vectors\n",
    "\n",
    "np.random.seed(0)\n",
    "vocab_size = len(tf_idf_matrix.columns)\n",
    "random_vectors = get_random_vectors(vocab_size, m = 15000)\n",
    "\n",
    "print('dimension of the set of random vectors: ', random_vectors.shape)\n",
    "print(random_vectors[1])\n",
    "print(np.linalg.norm(random_vectors[1]))\n"
   ]
  },
  {
   "cell_type": "markdown",
   "metadata": {},
   "source": [
    "# Create new document vectors with reduced dimensionality"
   ]
  },
  {
   "cell_type": "code",
   "execution_count": 64,
   "metadata": {},
   "outputs": [
    {
     "data": {
      "text/plain": [
       "array([1, 1, 1, ..., 0, 0, 1])"
      ]
     },
     "execution_count": 64,
     "metadata": {},
     "output_type": "execute_result"
    }
   ],
   "source": [
    "#compute new document vectors with reduced dimensionality\n",
    "doc_projections = compute_hash(norm(doc_vectors), random_vectors, 0)\n",
    "doc_projections[1]"
   ]
  },
  {
   "cell_type": "markdown",
   "metadata": {},
   "source": [
    "# Create new query vectors with reduced dimensionality"
   ]
  },
  {
   "cell_type": "code",
   "execution_count": 65,
   "metadata": {},
   "outputs": [],
   "source": [
    "#compute new query vectors with reduced dimensionality\n",
    "q_projections = compute_hash(norm(q_vectors),random_vectors, 0)"
   ]
  },
  {
   "cell_type": "markdown",
   "metadata": {},
   "source": [
    "# Random projections evaluation"
   ]
  },
  {
   "cell_type": "code",
   "execution_count": 66,
   "metadata": {},
   "outputs": [
    {
     "name": "stdout",
     "output_type": "stream",
     "text": [
      "Average precision across all queries = 0.38138461538461566\n",
      "Mean Average Precision = 0.24951965811965837\n",
      "Average nDCG = 0.32692184828998233\n",
      "Wall time: 18.4 s\n"
     ]
    }
   ],
   "source": [
    "%%time\n",
    "rand_proj_evaluation = full_evaluation(q_projections, doc_projections, k=5, random_projections = True)"
   ]
  },
  {
   "cell_type": "code",
   "execution_count": 67,
   "metadata": {},
   "outputs": [
    {
     "data": {
      "text/html": [
       "<div>\n",
       "<style scoped>\n",
       "    .dataframe tbody tr th:only-of-type {\n",
       "        vertical-align: middle;\n",
       "    }\n",
       "\n",
       "    .dataframe tbody tr th {\n",
       "        vertical-align: top;\n",
       "    }\n",
       "\n",
       "    .dataframe thead th {\n",
       "        text-align: right;\n",
       "    }\n",
       "</style>\n",
       "<table border=\"1\" class=\"dataframe\">\n",
       "  <thead>\n",
       "    <tr style=\"text-align: right;\">\n",
       "      <th></th>\n",
       "      <th>ID</th>\n",
       "      <th>TEXT</th>\n",
       "      <th>Precision</th>\n",
       "      <th>Average Precision</th>\n",
       "      <th>nDCG</th>\n",
       "    </tr>\n",
       "  </thead>\n",
       "  <tbody>\n",
       "    <tr>\n",
       "      <th>0</th>\n",
       "      <td>PLAIN-1</td>\n",
       "      <td>d e e p   f r i   f o o d   m a y   c a u s   ...</td>\n",
       "      <td>0.8</td>\n",
       "      <td>0.543333</td>\n",
       "      <td>0.595237</td>\n",
       "    </tr>\n",
       "    <tr>\n",
       "      <th>1</th>\n",
       "      <td>PLAIN-1007</td>\n",
       "      <td>d d t   p e r s i s t   o r g a n   p o l l u ...</td>\n",
       "      <td>0.4</td>\n",
       "      <td>0.130000</td>\n",
       "      <td>0.277273</td>\n",
       "    </tr>\n",
       "    <tr>\n",
       "      <th>2</th>\n",
       "      <td>PLAIN-101</td>\n",
       "      <td>t r e a t   m u l t i p l   s c l e r o s i   ...</td>\n",
       "      <td>0.4</td>\n",
       "      <td>0.233333</td>\n",
       "      <td>0.298776</td>\n",
       "    </tr>\n",
       "    <tr>\n",
       "      <th>3</th>\n",
       "      <td>PLAIN-1017</td>\n",
       "      <td>d e t o x i f   c a n c e r   r a w   f o o d ...</td>\n",
       "      <td>0.0</td>\n",
       "      <td>0.000000</td>\n",
       "      <td>0.000000</td>\n",
       "    </tr>\n",
       "    <tr>\n",
       "      <th>4</th>\n",
       "      <td>PLAIN-1027</td>\n",
       "      <td>d i e t a r i   g u i d e l i n   h e a r t   ...</td>\n",
       "      <td>0.2</td>\n",
       "      <td>0.100000</td>\n",
       "      <td>0.213986</td>\n",
       "    </tr>\n",
       "  </tbody>\n",
       "</table>\n",
       "</div>"
      ],
      "text/plain": [
       "           ID                                               TEXT  Precision  \\\n",
       "0     PLAIN-1  d e e p   f r i   f o o d   m a y   c a u s   ...        0.8   \n",
       "1  PLAIN-1007  d d t   p e r s i s t   o r g a n   p o l l u ...        0.4   \n",
       "2   PLAIN-101  t r e a t   m u l t i p l   s c l e r o s i   ...        0.4   \n",
       "3  PLAIN-1017  d e t o x i f   c a n c e r   r a w   f o o d ...        0.0   \n",
       "4  PLAIN-1027  d i e t a r i   g u i d e l i n   h e a r t   ...        0.2   \n",
       "\n",
       "   Average Precision      nDCG  \n",
       "0           0.543333  0.595237  \n",
       "1           0.130000  0.277273  \n",
       "2           0.233333  0.298776  \n",
       "3           0.000000  0.000000  \n",
       "4           0.100000  0.213986  "
      ]
     },
     "execution_count": 67,
     "metadata": {},
     "output_type": "execute_result"
    }
   ],
   "source": [
    "rand_proj_evaluation.head()"
   ]
  },
  {
   "cell_type": "code",
   "execution_count": 68,
   "metadata": {},
   "outputs": [
    {
     "name": "stdout",
     "output_type": "stream",
     "text": [
      "Average precision across all queries = 0.1779487179487181\n",
      "Mean Average Precision = 0.09175726495726495\n",
      "Average nDCG = 0.14780739031794277\n",
      "Average precision across all queries = 0.3164615384615387\n",
      "Mean Average Precision = 0.19847606837606843\n",
      "Average nDCG = 0.2701414620563098\n",
      "Average precision across all queries = 0.3550256410256412\n",
      "Mean Average Precision = 0.23705982905982917\n",
      "Average nDCG = 0.309112459954689\n",
      "Average precision across all queries = 0.3701025641025642\n",
      "Mean Average Precision = 0.2440444444444446\n",
      "Average nDCG = 0.3178511965149954\n"
     ]
    }
   ],
   "source": [
    "precision=[]\n",
    "MAP=[]\n",
    "nDCG=[]\n",
    "time_get_rand_vec = []\n",
    "time_hash_norm_doc = []\n",
    "time_hash_norm_q=[]\n",
    "time_evaluation=[]\n",
    "for i in [1000, 5000, 10000, 15000]:\n",
    "    start_time_rand_vect = time.time()\n",
    "    random_vectors_test = get_random_vectors(vocab_size, m = i)\n",
    "    time_get_rand_vec.append(time.time()-start_time_rand_vect)\n",
    "    \n",
    "    start_hash_norm_doc = time.time()\n",
    "    doc_projections_test = compute_hash(norm(doc_vectors), random_vectors_test, 0)\n",
    "    time_hash_norm_doc.append(time.time() - start_hash_norm_doc)\n",
    "    \n",
    "    start_hash_norm_q = time.time()\n",
    "    q_projections_test = compute_hash(norm(q_vectors),random_vectors_test, 0)\n",
    "    time_hash_norm_q.append(time.time() - start_hash_norm_q)\n",
    "    \n",
    "    start_evaluation = time.time()\n",
    "    rand_proj_evaluation_test = full_evaluation(q_projections_test, doc_projections_test, k=5, random_projections = True)\n",
    "    time_evaluation.append(time.time() - start_evaluation)\n",
    "    \n",
    "    precision.append(rand_proj_evaluation_test['Precision'].mean())\n",
    "    MAP.append(rand_proj_evaluation_test['Average Precision'].mean())\n",
    "    nDCG.append(rand_proj_evaluation_test['nDCG'].mean())\n"
   ]
  },
  {
   "cell_type": "code",
   "execution_count": 69,
   "metadata": {},
   "outputs": [
    {
     "data": {
      "text/plain": [
       "<function matplotlib.pyplot.show(*args, **kw)>"
      ]
     },
     "execution_count": 69,
     "metadata": {},
     "output_type": "execute_result"
    },
    {
     "data": {
      "image/png": "[encoded data removed]",
      "text/plain": [
       "<Figure size 432x288 with 1 Axes>"
      ]
     },
     "metadata": {
      "needs_background": "light"
     },
     "output_type": "display_data"
    }
   ],
   "source": [
    "import matplotlib.pyplot as plt\n",
    "plt.xlabel(\"m\")    \n",
    "plt.plot([1000, 5000, 10000, 15000], precision, label = \"Precision\")\n",
    "plt.plot([1000, 5000, 10000, 15000], MAP, label = \"MAP\")\n",
    "plt.plot([1000, 5000, 10000, 15000], nDCG, label = \"nDCG\")\n",
    "plt.legend()\n",
    "plt.show"
   ]
  },
  {
   "cell_type": "code",
   "execution_count": 70,
   "metadata": {},
   "outputs": [
    {
     "data": {
      "image/png": "[encoded data removed]",
      "text/plain": [
       "<Figure size 432x288 with 1 Axes>"
      ]
     },
     "metadata": {
      "needs_background": "light"
     },
     "output_type": "display_data"
    }
   ],
   "source": [
    "plt.ylabel(\"time, sec\")\n",
    "plt.xlabel(\"m\")\n",
    "plt.plot([1000, 5000, 10000, 15000], time_get_rand_vec, label = \"Generate random vectors\")\n",
    "#plt.plot([1000, 5000, 10000, 15000], time_hash_norm_doc, label = \"Project doc vectors\")\n",
    "plt.plot([1000, 5000, 10000, 15000], time_hash_norm_q, label = \"Project query vectors\")\n",
    "plt.plot([1000, 5000, 10000, 15000], time_evaluation, label = \"Evaluation\")\n",
    "plt.legend()\n",
    "plt.show()"
   ]
  },
  {
   "cell_type": "code",
   "execution_count": 71,
   "metadata": {},
   "outputs": [
    {
     "name": "stdout",
     "output_type": "stream",
     "text": [
      "[0.7699377536773682, 3.695114850997925, 10.186760902404785, 14.617742538452148]\n",
      "[27.328903913497925, 132.76290464401245, 269.22781443595886, 403.9347126483917]\n",
      "[2.763607978820801, 13.638519287109375, 26.95188546180725, 40.70015740394592]\n",
      "[10.562750101089478, 12.72995376586914, 14.850952625274658, 17.832324981689453]\n"
     ]
    }
   ],
   "source": [
    "print(time_get_rand_vec)\n",
    "print(time_hash_norm_doc)\n",
    "print(time_hash_norm_q)\n",
    "print(time_evaluation)\n"
   ]
  }
 ],
 "metadata": {
  "kernelspec": {
   "display_name": "Python 3",
   "language": "python",
   "name": "python3"
  },
  "language_info": {
   "codemirror_mode": {
    "name": "ipython",
    "version": 3
   },
   "file_extension": ".py",
   "mimetype": "text/x-python",
   "name": "python",
   "nbconvert_exporter": "python",
   "pygments_lexer": "ipython3",
   "version": "3.7.3"
  }
 },
 "nbformat": 4,
 "nbformat_minor": 2
}

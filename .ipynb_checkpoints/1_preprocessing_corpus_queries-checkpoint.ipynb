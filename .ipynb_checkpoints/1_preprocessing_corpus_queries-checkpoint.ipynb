{
 "cells": [
  {
   "cell_type": "code",
   "execution_count": 3,
   "metadata": {},
   "outputs": [],
   "source": [
    "import pandas as pd\n",
    "import math\n",
    "import copy\n",
    "import numpy as np \n",
    "import itertools\n",
    "import more_itertools as mit\n",
    "from nltk.corpus import stopwords \n",
    "from nltk.tokenize import word_tokenize\n",
    "from nltk.stem import PorterStemmer \n",
    "import string\n",
    "import re"
   ]
  },
  {
   "cell_type": "markdown",
   "metadata": {},
   "source": [
    "## Corpus Preprocessing"
   ]
  },
  {
   "cell_type": "code",
   "execution_count": 1,
   "metadata": {},
   "outputs": [],
   "source": [
    "def preprocess_corpus(corpus):\n",
    "    \n",
    "    ps = PorterStemmer()\n",
    "    \n",
    "    def stemSentence(sentence,ps):\n",
    "        token_words = word_tokenize(sentence)\n",
    "        stem_sentence = []\n",
    "        for word in token_words:\n",
    "            stem_sentence.append(ps.stem(word))\n",
    "            stem_sentence.append(\" \")\n",
    "        return \"\".join(stem_sentence)\n",
    "    \n",
    "    #apply function\n",
    "    corpus['TEXT'] = corpus.apply(lambda x: stemSentence(x['TEXT'],ps), axis=1)\n",
    "    \n",
    "    return corpus"
   ]
  },
  {
   "cell_type": "markdown",
   "metadata": {},
   "source": [
    " ## Query Preprocessing"
   ]
  },
  {
   "cell_type": "code",
   "execution_count": 6,
   "metadata": {},
   "outputs": [],
   "source": [
    "def preprocess_queries(corpus, queries):\n",
    "    \n",
    "    def remove_punctuations(text): # remove punctuation\n",
    "        for punctuation in string.punctuation:\n",
    "            text = text.replace(punctuation, '')\n",
    "        return text\n",
    "\n",
    "    def remove_numbers(text): # remove numbers\n",
    "        return re.sub('[0-9]+', '', text)\n",
    "    \n",
    "    def lower_case(text): # lower case\n",
    "        text = text.lower()\n",
    "        return text \n",
    "    \n",
    "    def tokenize(text): #tokenize\n",
    "        return word_tokenize(text)\n",
    "    \n",
    "    stop = set(stopwords.words('english'))   \n",
    "    def stop_words(tokens): # stop words \n",
    "        filtered_words = []\n",
    "        for word in tokens:\n",
    "            if word not in stop:\n",
    "                filtered_words.append(word)\n",
    "        return filtered_words\n",
    "    \n",
    "    ps = PorterStemmer()\n",
    "    def stemming(tokens, ps): # stemming\n",
    "        return [ps.stem(w) for w in tokens] \n",
    "    \n",
    "    def corpus_vocab(corpus):\n",
    "        vocab = []\n",
    "        corpus_tokens = corpus.apply(lambda x: word_tokenize(x['TEXT']), axis=1)\n",
    "        for i, j in corpus_tokens.iteritems():\n",
    "            for token in j:\n",
    "                if token not in vocab:\n",
    "                    vocab.append(token)        \n",
    "        return vocab\n",
    "    \n",
    "    v = corpus_vocab(corpus)    \n",
    "    def filter_query(tokens):\n",
    "        t = []\n",
    "        for token in tokens:\n",
    "            if token in v:\n",
    "                t.append(token)\n",
    "        return t\n",
    "    \n",
    "    # apply functions\n",
    "    queries['TEXT'] = queries.apply(lambda x: remove_punctuations(x['TEXT']), axis=1)\n",
    "    queries['TEXT'] = queries.apply(lambda x: remove_numbers(x['TEXT']), axis=1)\n",
    "    queries['TEXT'] = queries.apply(lambda x: lower_case(x['TEXT']), axis=1)\n",
    "    queries['TEXT'] = queries.apply(lambda x: tokenize(x['TEXT']), axis=1)\n",
    "    queries['TEXT'] = queries.apply(lambda x: stop_words(x['TEXT']), axis=1)\n",
    "    queries['TEXT'] = queries.apply(lambda x: stemming(x['TEXT'],ps), axis=1)\n",
    "    queries['TEXT'] = queries.apply(lambda x: filter_query(x['TEXT']), axis=1)\n",
    "    \n",
    "    return queries"
   ]
  },
  {
   "cell_type": "markdown",
   "metadata": {},
   "source": [
    "## TEST (output preprocessing corpus and queries)"
   ]
  },
  {
   "cell_type": "code",
   "execution_count": 7,
   "metadata": {},
   "outputs": [
    {
     "data": {
      "text/html": [
       "<div>\n",
       "<style scoped>\n",
       "    .dataframe tbody tr th:only-of-type {\n",
       "        vertical-align: middle;\n",
       "    }\n",
       "\n",
       "    .dataframe tbody tr th {\n",
       "        vertical-align: top;\n",
       "    }\n",
       "\n",
       "    .dataframe thead th {\n",
       "        text-align: right;\n",
       "    }\n",
       "</style>\n",
       "<table border=\"1\" class=\"dataframe\">\n",
       "  <thead>\n",
       "    <tr style=\"text-align: right;\">\n",
       "      <th></th>\n",
       "      <th>ID</th>\n",
       "      <th>TEXT</th>\n",
       "    </tr>\n",
       "  </thead>\n",
       "  <tbody>\n",
       "    <tr>\n",
       "      <th>0</th>\n",
       "      <td>PLAIN-1</td>\n",
       "      <td>[deep, fri, food, may, caus, cancer, latest, s...</td>\n",
       "    </tr>\n",
       "    <tr>\n",
       "      <th>1</th>\n",
       "      <td>PLAIN-1007</td>\n",
       "      <td>[ddt, persist, organ, pollut, industri, toxin,...</td>\n",
       "    </tr>\n",
       "    <tr>\n",
       "      <th>2</th>\n",
       "      <td>PLAIN-101</td>\n",
       "      <td>[treat, multipl, sclerosi, diet, multipl, scle...</td>\n",
       "    </tr>\n",
       "    <tr>\n",
       "      <th>3</th>\n",
       "      <td>PLAIN-1017</td>\n",
       "      <td>[detoxif, cancer, raw, food, heart, health, he...</td>\n",
       "    </tr>\n",
       "    <tr>\n",
       "      <th>4</th>\n",
       "      <td>PLAIN-1027</td>\n",
       "      <td>[dietari, guidelin, heart, diseas, cardiovascu...</td>\n",
       "    </tr>\n",
       "  </tbody>\n",
       "</table>\n",
       "</div>"
      ],
      "text/plain": [
       "           ID                                               TEXT\n",
       "0     PLAIN-1  [deep, fri, food, may, caus, cancer, latest, s...\n",
       "1  PLAIN-1007  [ddt, persist, organ, pollut, industri, toxin,...\n",
       "2   PLAIN-101  [treat, multipl, sclerosi, diet, multipl, scle...\n",
       "3  PLAIN-1017  [detoxif, cancer, raw, food, heart, health, he...\n",
       "4  PLAIN-1027  [dietari, guidelin, heart, diseas, cardiovascu..."
      ]
     },
     "execution_count": 7,
     "metadata": {},
     "output_type": "execute_result"
    }
   ],
   "source": [
    "# load corpus \n",
    "#corpus = pd.read_csv('nfcorpus/dev.docs', sep='\\t', names=['ID', 'TEXT'])\n",
    "\n",
    "# load queries\n",
    "#queries = pd.read_csv('nfcorpus/dev.all.queries', sep='\\t', names=['ID', 'TEXT'])\n",
    "\n",
    "#corpus = preprocess_corpus(corpus)\n",
    "#corpus.head()\n",
    "#queries = preprocess_queries(corpus,queries)\n",
    "#queries.head()"
   ]
  }
 ],
 "metadata": {
  "kernelspec": {
   "display_name": "Python 3",
   "language": "python",
   "name": "python3"
  },
  "language_info": {
   "codemirror_mode": {
    "name": "ipython",
    "version": 3
   },
   "file_extension": ".py",
   "mimetype": "text/x-python",
   "name": "python",
   "nbconvert_exporter": "python",
   "pygments_lexer": "ipython3",
   "version": "3.7.6"
  }
 },
 "nbformat": 4,
 "nbformat_minor": 2
}
